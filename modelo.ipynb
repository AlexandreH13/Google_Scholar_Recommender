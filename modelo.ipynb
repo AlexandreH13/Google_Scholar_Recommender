{
 "cells": [
  {
   "cell_type": "code",
   "execution_count": 1,
   "metadata": {},
   "outputs": [],
   "source": [
    "import pandas as pd"
   ]
  },
  {
   "cell_type": "code",
   "execution_count": 2,
   "metadata": {},
   "outputs": [
    {
     "data": {
      "text/plain": [
       "(400, 9)"
      ]
     },
     "execution_count": 2,
     "metadata": {},
     "output_type": "execute_result"
    }
   ],
   "source": [
    "df = pd.read_csv(\"dados_completos_anotados.csv\")\n",
    "df.shape"
   ]
  },
  {
   "cell_type": "code",
   "execution_count": 3,
   "metadata": {},
   "outputs": [
    {
     "data": {
      "text/html": [
       "<div>\n",
       "<style scoped>\n",
       "    .dataframe tbody tr th:only-of-type {\n",
       "        vertical-align: middle;\n",
       "    }\n",
       "\n",
       "    .dataframe tbody tr th {\n",
       "        vertical-align: top;\n",
       "    }\n",
       "\n",
       "    .dataframe thead th {\n",
       "        text-align: right;\n",
       "    }\n",
       "</style>\n",
       "<table border=\"1\" class=\"dataframe\">\n",
       "  <thead>\n",
       "    <tr style=\"text-align: right;\">\n",
       "      <th></th>\n",
       "      <th>Unnamed: 0</th>\n",
       "      <th>link</th>\n",
       "      <th>titulo</th>\n",
       "      <th>citacoes</th>\n",
       "      <th>ano</th>\n",
       "      <th>tipo_arquivo</th>\n",
       "      <th>versao</th>\n",
       "      <th>busca</th>\n",
       "      <th>y</th>\n",
       "    </tr>\n",
       "  </thead>\n",
       "  <tbody>\n",
       "    <tr>\n",
       "      <th>0</th>\n",
       "      <td>0</td>\n",
       "      <td>https://www.academia.edu/download/55091016/alg...</td>\n",
       "      <td>Introducción a los algoritmos genéticos y la p...</td>\n",
       "      <td>['75']</td>\n",
       "      <td>['2010']</td>\n",
       "      <td>[LIVRO]</td>\n",
       "      <td>['3']</td>\n",
       "      <td>algoritmos+geneticos</td>\n",
       "      <td>1</td>\n",
       "    </tr>\n",
       "    <tr>\n",
       "      <th>1</th>\n",
       "      <td>1</td>\n",
       "      <td>https://www.researchgate.net/profile/Pablo_Est...</td>\n",
       "      <td>Optimización mediante algoritmos genéticos</td>\n",
       "      <td>['51']</td>\n",
       "      <td>['1997']</td>\n",
       "      <td>[PDF]</td>\n",
       "      <td>['2']</td>\n",
       "      <td>algoritmos+geneticos</td>\n",
       "      <td>0</td>\n",
       "    </tr>\n",
       "    <tr>\n",
       "      <th>2</th>\n",
       "      <td>2</td>\n",
       "      <td>http://it.uc3m.es/jvillena/irc/practicas/06-07...</td>\n",
       "      <td>Algoritmos genéticos</td>\n",
       "      <td>['18']</td>\n",
       "      <td>['2007', '3']</td>\n",
       "      <td>[PDF]</td>\n",
       "      <td>['5']</td>\n",
       "      <td>algoritmos+geneticos</td>\n",
       "      <td>0</td>\n",
       "    </tr>\n",
       "    <tr>\n",
       "      <th>3</th>\n",
       "      <td>3</td>\n",
       "      <td>http://cursos.itam.mx/akuri/PUBLICA.CNS/2000/A...</td>\n",
       "      <td>Algoritmos genéticos</td>\n",
       "      <td>['26']</td>\n",
       "      <td>['2002']</td>\n",
       "      <td>[LIVRO]</td>\n",
       "      <td>['2']</td>\n",
       "      <td>algoritmos+geneticos</td>\n",
       "      <td>0</td>\n",
       "    </tr>\n",
       "    <tr>\n",
       "      <th>4</th>\n",
       "      <td>4</td>\n",
       "      <td>https://the-geek.org/docs/algen/algen.html</td>\n",
       "      <td>Algoritmos genéticos y computación evolutiva</td>\n",
       "      <td>['29']</td>\n",
       "      <td>['2004']</td>\n",
       "      <td>[HTML]</td>\n",
       "      <td>['2']</td>\n",
       "      <td>algoritmos+geneticos</td>\n",
       "      <td>0</td>\n",
       "    </tr>\n",
       "  </tbody>\n",
       "</table>\n",
       "</div>"
      ],
      "text/plain": [
       "   Unnamed: 0                                               link  \\\n",
       "0           0  https://www.academia.edu/download/55091016/alg...   \n",
       "1           1  https://www.researchgate.net/profile/Pablo_Est...   \n",
       "2           2  http://it.uc3m.es/jvillena/irc/practicas/06-07...   \n",
       "3           3  http://cursos.itam.mx/akuri/PUBLICA.CNS/2000/A...   \n",
       "4           4         https://the-geek.org/docs/algen/algen.html   \n",
       "\n",
       "                                              titulo citacoes            ano  \\\n",
       "0  Introducción a los algoritmos genéticos y la p...   ['75']       ['2010']   \n",
       "1         Optimización mediante algoritmos genéticos   ['51']       ['1997']   \n",
       "2                               Algoritmos genéticos   ['18']  ['2007', '3']   \n",
       "3                               Algoritmos genéticos   ['26']       ['2002']   \n",
       "4       Algoritmos genéticos y computación evolutiva   ['29']       ['2004']   \n",
       "\n",
       "  tipo_arquivo versao                 busca  y  \n",
       "0      [LIVRO]  ['3']  algoritmos+geneticos  1  \n",
       "1        [PDF]  ['2']  algoritmos+geneticos  0  \n",
       "2        [PDF]  ['5']  algoritmos+geneticos  0  \n",
       "3      [LIVRO]  ['2']  algoritmos+geneticos  0  \n",
       "4       [HTML]  ['2']  algoritmos+geneticos  0  "
      ]
     },
     "execution_count": 3,
     "metadata": {},
     "output_type": "execute_result"
    }
   ],
   "source": [
    "df.head()"
   ]
  },
  {
   "cell_type": "markdown",
   "metadata": {},
   "source": [
    "### Limpeza e transformação"
   ]
  },
  {
   "cell_type": "code",
   "execution_count": 4,
   "metadata": {},
   "outputs": [],
   "source": [
    "df_limpo = df.copy()"
   ]
  },
  {
   "cell_type": "code",
   "execution_count": 5,
   "metadata": {},
   "outputs": [
    {
     "data": {
      "text/html": [
       "<div>\n",
       "<style scoped>\n",
       "    .dataframe tbody tr th:only-of-type {\n",
       "        vertical-align: middle;\n",
       "    }\n",
       "\n",
       "    .dataframe tbody tr th {\n",
       "        vertical-align: top;\n",
       "    }\n",
       "\n",
       "    .dataframe thead th {\n",
       "        text-align: right;\n",
       "    }\n",
       "</style>\n",
       "<table border=\"1\" class=\"dataframe\">\n",
       "  <thead>\n",
       "    <tr style=\"text-align: right;\">\n",
       "      <th></th>\n",
       "      <th>link</th>\n",
       "      <th>titulo</th>\n",
       "      <th>citacoes</th>\n",
       "      <th>ano</th>\n",
       "      <th>tipo_arquivo</th>\n",
       "      <th>versao</th>\n",
       "      <th>busca</th>\n",
       "      <th>y</th>\n",
       "    </tr>\n",
       "  </thead>\n",
       "  <tbody>\n",
       "    <tr>\n",
       "      <th>0</th>\n",
       "      <td>https://www.academia.edu/download/55091016/alg...</td>\n",
       "      <td>Introducción a los algoritmos genéticos y la p...</td>\n",
       "      <td>['75']</td>\n",
       "      <td>['2010']</td>\n",
       "      <td>[LIVRO]</td>\n",
       "      <td>['3']</td>\n",
       "      <td>algoritmos+geneticos</td>\n",
       "      <td>1</td>\n",
       "    </tr>\n",
       "  </tbody>\n",
       "</table>\n",
       "</div>"
      ],
      "text/plain": [
       "                                                link  \\\n",
       "0  https://www.academia.edu/download/55091016/alg...   \n",
       "\n",
       "                                              titulo citacoes       ano  \\\n",
       "0  Introducción a los algoritmos genéticos y la p...   ['75']  ['2010']   \n",
       "\n",
       "  tipo_arquivo versao                 busca  y  \n",
       "0      [LIVRO]  ['3']  algoritmos+geneticos  1  "
      ]
     },
     "execution_count": 5,
     "metadata": {},
     "output_type": "execute_result"
    }
   ],
   "source": [
    "df_limpo = df_limpo.drop(['Unnamed: 0'], axis=1)\n",
    "df_limpo.head(1)"
   ]
  },
  {
   "cell_type": "code",
   "execution_count": 6,
   "metadata": {},
   "outputs": [],
   "source": [
    "def clean_data(cols_list, char_list):\n",
    "    for col in cols_list:\n",
    "        for char in char_list:\n",
    "            df_limpo[col] = df_limpo[col].str.replace(char, '')"
   ]
  },
  {
   "cell_type": "code",
   "execution_count": 7,
   "metadata": {},
   "outputs": [
    {
     "data": {
      "text/html": [
       "<div>\n",
       "<style scoped>\n",
       "    .dataframe tbody tr th:only-of-type {\n",
       "        vertical-align: middle;\n",
       "    }\n",
       "\n",
       "    .dataframe tbody tr th {\n",
       "        vertical-align: top;\n",
       "    }\n",
       "\n",
       "    .dataframe thead th {\n",
       "        text-align: right;\n",
       "    }\n",
       "</style>\n",
       "<table border=\"1\" class=\"dataframe\">\n",
       "  <thead>\n",
       "    <tr style=\"text-align: right;\">\n",
       "      <th></th>\n",
       "      <th>link</th>\n",
       "      <th>titulo</th>\n",
       "      <th>citacoes</th>\n",
       "      <th>ano</th>\n",
       "      <th>tipo_arquivo</th>\n",
       "      <th>versao</th>\n",
       "      <th>busca</th>\n",
       "      <th>y</th>\n",
       "    </tr>\n",
       "  </thead>\n",
       "  <tbody>\n",
       "    <tr>\n",
       "      <th>0</th>\n",
       "      <td>https://www.academia.edu/download/55091016/alg...</td>\n",
       "      <td>Introducción a los algoritmos genéticos y la p...</td>\n",
       "      <td>75</td>\n",
       "      <td>2010</td>\n",
       "      <td>LIVRO</td>\n",
       "      <td>3</td>\n",
       "      <td>algoritmos+geneticos</td>\n",
       "      <td>1</td>\n",
       "    </tr>\n",
       "    <tr>\n",
       "      <th>1</th>\n",
       "      <td>https://www.researchgate.net/profile/Pablo_Est...</td>\n",
       "      <td>Optimización mediante algoritmos genéticos</td>\n",
       "      <td>51</td>\n",
       "      <td>1997</td>\n",
       "      <td>PDF</td>\n",
       "      <td>2</td>\n",
       "      <td>algoritmos+geneticos</td>\n",
       "      <td>0</td>\n",
       "    </tr>\n",
       "    <tr>\n",
       "      <th>2</th>\n",
       "      <td>http://it.uc3m.es/jvillena/irc/practicas/06-07...</td>\n",
       "      <td>Algoritmos genéticos</td>\n",
       "      <td>18</td>\n",
       "      <td>2007,3</td>\n",
       "      <td>PDF</td>\n",
       "      <td>5</td>\n",
       "      <td>algoritmos+geneticos</td>\n",
       "      <td>0</td>\n",
       "    </tr>\n",
       "    <tr>\n",
       "      <th>3</th>\n",
       "      <td>http://cursos.itam.mx/akuri/PUBLICA.CNS/2000/A...</td>\n",
       "      <td>Algoritmos genéticos</td>\n",
       "      <td>26</td>\n",
       "      <td>2002</td>\n",
       "      <td>LIVRO</td>\n",
       "      <td>2</td>\n",
       "      <td>algoritmos+geneticos</td>\n",
       "      <td>0</td>\n",
       "    </tr>\n",
       "    <tr>\n",
       "      <th>4</th>\n",
       "      <td>https://the-geek.org/docs/algen/algen.html</td>\n",
       "      <td>Algoritmos genéticos y computación evolutiva</td>\n",
       "      <td>29</td>\n",
       "      <td>2004</td>\n",
       "      <td>HTML</td>\n",
       "      <td>2</td>\n",
       "      <td>algoritmos+geneticos</td>\n",
       "      <td>0</td>\n",
       "    </tr>\n",
       "  </tbody>\n",
       "</table>\n",
       "</div>"
      ],
      "text/plain": [
       "                                                link  \\\n",
       "0  https://www.academia.edu/download/55091016/alg...   \n",
       "1  https://www.researchgate.net/profile/Pablo_Est...   \n",
       "2  http://it.uc3m.es/jvillena/irc/practicas/06-07...   \n",
       "3  http://cursos.itam.mx/akuri/PUBLICA.CNS/2000/A...   \n",
       "4         https://the-geek.org/docs/algen/algen.html   \n",
       "\n",
       "                                              titulo citacoes     ano  \\\n",
       "0  Introducción a los algoritmos genéticos y la p...       75    2010   \n",
       "1         Optimización mediante algoritmos genéticos       51    1997   \n",
       "2                               Algoritmos genéticos       18  2007,3   \n",
       "3                               Algoritmos genéticos       26    2002   \n",
       "4       Algoritmos genéticos y computación evolutiva       29    2004   \n",
       "\n",
       "  tipo_arquivo versao                 busca  y  \n",
       "0        LIVRO      3  algoritmos+geneticos  1  \n",
       "1          PDF      2  algoritmos+geneticos  0  \n",
       "2          PDF      5  algoritmos+geneticos  0  \n",
       "3        LIVRO      2  algoritmos+geneticos  0  \n",
       "4         HTML      2  algoritmos+geneticos  0  "
      ]
     },
     "execution_count": 7,
     "metadata": {},
     "output_type": "execute_result"
    }
   ],
   "source": [
    "cols_to_clean = ['citacoes', 'ano', 'tipo_arquivo', 'versao']\n",
    "spec_chars = [\"[\", \"]\", \"'\", \" \"]\n",
    "\n",
    "clean_data(cols_to_clean, spec_chars)\n",
    "df_limpo.head()"
   ]
  },
  {
   "cell_type": "code",
   "execution_count": 8,
   "metadata": {},
   "outputs": [
    {
     "data": {
      "text/plain": [
       "link            object\n",
       "titulo          object\n",
       "citacoes         int32\n",
       "ano             object\n",
       "tipo_arquivo    object\n",
       "versao           int32\n",
       "busca           object\n",
       "y                int64\n",
       "dtype: object"
      ]
     },
     "execution_count": 8,
     "metadata": {},
     "output_type": "execute_result"
    }
   ],
   "source": [
    "cols_to_convert = ['citacoes', 'versao']\n",
    "df_limpo[cols_to_convert] = df_limpo[cols_to_convert].astype('int32')\n",
    "df_limpo.dtypes"
   ]
  },
  {
   "cell_type": "markdown",
   "metadata": {},
   "source": [
    "#### Limpando coluna 'ano'"
   ]
  },
  {
   "cell_type": "code",
   "execution_count": 9,
   "metadata": {},
   "outputs": [
    {
     "name": "stdout",
     "output_type": "stream",
     "text": [
      "2007,3\n",
      "2010,200,62,146,19\n",
      "2011,2011,40\n",
      "85,2002\n",
      "2009,150,214,190,154\n",
      "2014,2014\n",
      "2010,3\n",
      "94,1994\n",
      "4,2011\n",
      "02,2002\n",
      "2010,2010\n",
      "2006,2006\n",
      "2014,47,2014\n",
      "8,2003\n",
      "2008,1\n",
      "1611,01236,2016\n",
      "2000,2000\n",
      "40,2002\n",
      "1708,07747,2017\n",
      "33,2010\n",
      "2001,2001\n",
      "2010,2010\n",
      "2017,2017\n",
      "10,939,288,2005\n",
      "25,2016\n",
      "2011,27,2011\n",
      "1307,0411,2013\n",
      "1206,4656,2012\n",
      "2005,2005\n",
      "1702,08608,2017\n",
      "21,2012\n",
      "1605,07277,2016\n"
     ]
    }
   ],
   "source": [
    "for i in df_limpo['ano']:\n",
    "    if(len(i)>4):\n",
    "        print(i)"
   ]
  },
  {
   "cell_type": "code",
   "execution_count": 10,
   "metadata": {},
   "outputs": [],
   "source": [
    "coluna_ano = df_limpo['ano'].copy()"
   ]
  },
  {
   "cell_type": "code",
   "execution_count": 11,
   "metadata": {},
   "outputs": [
    {
     "name": "stdout",
     "output_type": "stream",
     "text": [
      "0\n",
      "1\n",
      "2\n",
      "3\n",
      "4\n",
      "5\n",
      "6\n",
      "7\n",
      "8\n",
      "9\n",
      "10\n",
      "11\n",
      "12\n",
      "13\n",
      "14\n",
      "15\n",
      "16\n",
      "17\n",
      "18\n",
      "19\n",
      "20\n",
      "21\n",
      "22\n",
      "23\n",
      "24\n",
      "25\n",
      "26\n",
      "27\n",
      "28\n",
      "29\n",
      "30\n",
      "31\n",
      "32\n",
      "33\n",
      "34\n",
      "35\n",
      "36\n",
      "37\n",
      "38\n",
      "39\n",
      "40\n",
      "41\n",
      "42\n",
      "43\n",
      "44\n",
      "45\n",
      "46\n",
      "47\n",
      "48\n",
      "49\n",
      "50\n",
      "51\n",
      "52\n",
      "53\n",
      "54\n",
      "55\n",
      "56\n",
      "57\n",
      "58\n",
      "59\n",
      "60\n",
      "61\n",
      "62\n",
      "63\n",
      "64\n",
      "65\n",
      "66\n",
      "67\n",
      "68\n",
      "69\n",
      "70\n",
      "71\n",
      "72\n",
      "73\n",
      "74\n",
      "75\n",
      "76\n",
      "77\n",
      "78\n",
      "79\n",
      "80\n",
      "81\n",
      "82\n",
      "83\n",
      "84\n",
      "85\n",
      "86\n",
      "87\n",
      "88\n",
      "89\n",
      "90\n",
      "91\n",
      "92\n",
      "93\n",
      "94\n",
      "95\n",
      "96\n",
      "97\n",
      "98\n",
      "99\n",
      "100\n",
      "101\n",
      "102\n",
      "103\n",
      "104\n",
      "105\n",
      "106\n",
      "107\n",
      "108\n",
      "109\n",
      "110\n",
      "111\n",
      "112\n",
      "113\n",
      "114\n",
      "115\n",
      "116\n",
      "117\n",
      "118\n",
      "119\n",
      "120\n",
      "121\n",
      "122\n",
      "123\n",
      "124\n",
      "125\n",
      "126\n",
      "127\n",
      "128\n",
      "129\n",
      "130\n",
      "131\n",
      "132\n",
      "133\n",
      "134\n",
      "135\n",
      "136\n",
      "137\n",
      "138\n",
      "139\n",
      "140\n",
      "141\n",
      "142\n",
      "143\n",
      "144\n",
      "145\n",
      "146\n",
      "147\n",
      "148\n",
      "149\n",
      "150\n",
      "151\n",
      "152\n",
      "153\n",
      "154\n",
      "155\n",
      "156\n",
      "157\n",
      "158\n",
      "159\n",
      "160\n",
      "161\n",
      "162\n",
      "163\n",
      "164\n",
      "165\n",
      "166\n",
      "167\n",
      "168\n",
      "169\n",
      "170\n",
      "171\n",
      "172\n",
      "173\n",
      "174\n",
      "175\n",
      "176\n",
      "177\n",
      "178\n",
      "179\n",
      "180\n",
      "181\n",
      "182\n",
      "183\n",
      "184\n",
      "185\n",
      "186\n",
      "187\n",
      "188\n",
      "189\n",
      "190\n",
      "191\n",
      "192\n",
      "193\n",
      "194\n",
      "195\n",
      "196\n",
      "197\n",
      "198\n",
      "199\n",
      "200\n",
      "201\n",
      "202\n",
      "203\n",
      "204\n",
      "205\n",
      "206\n",
      "207\n",
      "208\n",
      "209\n",
      "210\n",
      "211\n",
      "212\n",
      "213\n",
      "214\n",
      "215\n",
      "216\n",
      "217\n",
      "218\n",
      "219\n",
      "220\n",
      "221\n",
      "222\n",
      "223\n",
      "224\n",
      "225\n",
      "226\n",
      "227\n",
      "228\n",
      "229\n",
      "230\n",
      "231\n",
      "232\n",
      "233\n",
      "234\n",
      "235\n",
      "236\n",
      "237\n",
      "238\n",
      "239\n",
      "240\n",
      "241\n",
      "242\n",
      "243\n",
      "244\n",
      "245\n",
      "246\n",
      "247\n",
      "248\n",
      "249\n",
      "250\n",
      "251\n",
      "252\n",
      "253\n",
      "254\n",
      "255\n",
      "256\n",
      "257\n",
      "258\n",
      "259\n",
      "260\n",
      "261\n",
      "262\n",
      "263\n",
      "264\n",
      "265\n",
      "266\n",
      "267\n",
      "268\n",
      "269\n",
      "270\n",
      "271\n",
      "272\n",
      "273\n",
      "274\n",
      "275\n",
      "276\n",
      "277\n",
      "278\n",
      "279\n",
      "280\n",
      "281\n",
      "282\n",
      "283\n",
      "284\n",
      "285\n",
      "286\n",
      "287\n",
      "288\n",
      "289\n",
      "290\n",
      "291\n",
      "292\n",
      "293\n",
      "294\n",
      "295\n",
      "296\n",
      "297\n",
      "298\n",
      "299\n",
      "300\n",
      "301\n",
      "302\n",
      "303\n",
      "304\n",
      "305\n",
      "306\n",
      "307\n",
      "308\n",
      "309\n",
      "310\n",
      "311\n",
      "312\n",
      "313\n",
      "314\n",
      "315\n",
      "316\n",
      "317\n",
      "318\n",
      "319\n",
      "320\n",
      "321\n",
      "322\n",
      "323\n",
      "324\n",
      "325\n",
      "326\n",
      "327\n",
      "328\n",
      "329\n",
      "330\n",
      "331\n",
      "332\n",
      "333\n",
      "334\n",
      "335\n",
      "336\n",
      "337\n",
      "338\n",
      "339\n",
      "340\n",
      "341\n",
      "342\n",
      "343\n",
      "344\n",
      "345\n",
      "346\n",
      "347\n",
      "348\n",
      "349\n",
      "350\n",
      "351\n",
      "352\n",
      "353\n",
      "354\n",
      "355\n",
      "356\n",
      "357\n",
      "358\n",
      "359\n",
      "360\n",
      "361\n",
      "362\n",
      "363\n",
      "364\n",
      "365\n",
      "366\n",
      "367\n",
      "368\n",
      "369\n",
      "370\n",
      "371\n",
      "372\n",
      "373\n",
      "374\n",
      "375\n",
      "376\n",
      "377\n",
      "378\n",
      "379\n",
      "380\n",
      "381\n",
      "382\n",
      "383\n",
      "384\n",
      "385\n",
      "386\n",
      "387\n",
      "388\n",
      "389\n",
      "390\n",
      "391\n",
      "392\n",
      "393\n",
      "394\n",
      "395\n",
      "396\n",
      "397\n",
      "398\n",
      "399\n",
      "0      2010\n",
      "1      1997\n",
      "2      2007\n",
      "3      2002\n",
      "4      2004\n",
      "       ... \n",
      "395    2018\n",
      "396    2017\n",
      "397    2006\n",
      "398    2016\n",
      "399    2005\n",
      "Name: ano, Length: 400, dtype: object\n"
     ]
    }
   ],
   "source": [
    "import re\n",
    "\n",
    "for i in range(len(coluna_ano)):\n",
    "    print(i)\n",
    "    if(len(coluna_ano[i])>4):\n",
    "        res = re.findall(r'\\d{4}', coluna_ano[i])\n",
    "        if(len(res)>1):\n",
    "            coluna_ano[i] = res[len(res)-1]\n",
    "        else:\n",
    "            coluna_ano[i] = res[0]\n",
    "print(coluna_ano)"
   ]
  },
  {
   "cell_type": "code",
   "execution_count": 12,
   "metadata": {},
   "outputs": [
    {
     "data": {
      "text/html": [
       "<div>\n",
       "<style scoped>\n",
       "    .dataframe tbody tr th:only-of-type {\n",
       "        vertical-align: middle;\n",
       "    }\n",
       "\n",
       "    .dataframe tbody tr th {\n",
       "        vertical-align: top;\n",
       "    }\n",
       "\n",
       "    .dataframe thead th {\n",
       "        text-align: right;\n",
       "    }\n",
       "</style>\n",
       "<table border=\"1\" class=\"dataframe\">\n",
       "  <thead>\n",
       "    <tr style=\"text-align: right;\">\n",
       "      <th></th>\n",
       "      <th>link</th>\n",
       "      <th>titulo</th>\n",
       "      <th>citacoes</th>\n",
       "      <th>ano</th>\n",
       "      <th>tipo_arquivo</th>\n",
       "      <th>versao</th>\n",
       "      <th>busca</th>\n",
       "      <th>y</th>\n",
       "    </tr>\n",
       "  </thead>\n",
       "  <tbody>\n",
       "    <tr>\n",
       "      <th>0</th>\n",
       "      <td>https://www.academia.edu/download/55091016/alg...</td>\n",
       "      <td>Introducción a los algoritmos genéticos y la p...</td>\n",
       "      <td>75</td>\n",
       "      <td>2010</td>\n",
       "      <td>LIVRO</td>\n",
       "      <td>3</td>\n",
       "      <td>algoritmos+geneticos</td>\n",
       "      <td>1</td>\n",
       "    </tr>\n",
       "    <tr>\n",
       "      <th>1</th>\n",
       "      <td>https://www.researchgate.net/profile/Pablo_Est...</td>\n",
       "      <td>Optimización mediante algoritmos genéticos</td>\n",
       "      <td>51</td>\n",
       "      <td>1997</td>\n",
       "      <td>PDF</td>\n",
       "      <td>2</td>\n",
       "      <td>algoritmos+geneticos</td>\n",
       "      <td>0</td>\n",
       "    </tr>\n",
       "    <tr>\n",
       "      <th>2</th>\n",
       "      <td>http://it.uc3m.es/jvillena/irc/practicas/06-07...</td>\n",
       "      <td>Algoritmos genéticos</td>\n",
       "      <td>18</td>\n",
       "      <td>2007</td>\n",
       "      <td>PDF</td>\n",
       "      <td>5</td>\n",
       "      <td>algoritmos+geneticos</td>\n",
       "      <td>0</td>\n",
       "    </tr>\n",
       "    <tr>\n",
       "      <th>3</th>\n",
       "      <td>http://cursos.itam.mx/akuri/PUBLICA.CNS/2000/A...</td>\n",
       "      <td>Algoritmos genéticos</td>\n",
       "      <td>26</td>\n",
       "      <td>2002</td>\n",
       "      <td>LIVRO</td>\n",
       "      <td>2</td>\n",
       "      <td>algoritmos+geneticos</td>\n",
       "      <td>0</td>\n",
       "    </tr>\n",
       "    <tr>\n",
       "      <th>4</th>\n",
       "      <td>https://the-geek.org/docs/algen/algen.html</td>\n",
       "      <td>Algoritmos genéticos y computación evolutiva</td>\n",
       "      <td>29</td>\n",
       "      <td>2004</td>\n",
       "      <td>HTML</td>\n",
       "      <td>2</td>\n",
       "      <td>algoritmos+geneticos</td>\n",
       "      <td>0</td>\n",
       "    </tr>\n",
       "  </tbody>\n",
       "</table>\n",
       "</div>"
      ],
      "text/plain": [
       "                                                link  \\\n",
       "0  https://www.academia.edu/download/55091016/alg...   \n",
       "1  https://www.researchgate.net/profile/Pablo_Est...   \n",
       "2  http://it.uc3m.es/jvillena/irc/practicas/06-07...   \n",
       "3  http://cursos.itam.mx/akuri/PUBLICA.CNS/2000/A...   \n",
       "4         https://the-geek.org/docs/algen/algen.html   \n",
       "\n",
       "                                              titulo  citacoes   ano  \\\n",
       "0  Introducción a los algoritmos genéticos y la p...        75  2010   \n",
       "1         Optimización mediante algoritmos genéticos        51  1997   \n",
       "2                               Algoritmos genéticos        18  2007   \n",
       "3                               Algoritmos genéticos        26  2002   \n",
       "4       Algoritmos genéticos y computación evolutiva        29  2004   \n",
       "\n",
       "  tipo_arquivo  versao                 busca  y  \n",
       "0        LIVRO       3  algoritmos+geneticos  1  \n",
       "1          PDF       2  algoritmos+geneticos  0  \n",
       "2          PDF       5  algoritmos+geneticos  0  \n",
       "3        LIVRO       2  algoritmos+geneticos  0  \n",
       "4         HTML       2  algoritmos+geneticos  0  "
      ]
     },
     "execution_count": 12,
     "metadata": {},
     "output_type": "execute_result"
    }
   ],
   "source": [
    "df_limpo['ano'] = coluna_ano\n",
    "df_limpo.head()"
   ]
  },
  {
   "cell_type": "code",
   "execution_count": 13,
   "metadata": {},
   "outputs": [],
   "source": [
    "df_limpo['ano'] = df_limpo['ano'].astype('int32')"
   ]
  },
  {
   "cell_type": "code",
   "execution_count": 14,
   "metadata": {},
   "outputs": [
    {
     "data": {
      "text/plain": [
       "numpy.ndarray"
      ]
     },
     "execution_count": 14,
     "metadata": {},
     "output_type": "execute_result"
    }
   ],
   "source": [
    "from sklearn.preprocessing import OneHotEncoder\n",
    "encoded_column = df_limpo['tipo_arquivo']\n",
    "## Precisamos transformar a coluna em um numpy array para pode transformá-la\n",
    "encoded_column = encoded_column.to_numpy()\n",
    "type(encoded_column)"
   ]
  },
  {
   "cell_type": "code",
   "execution_count": 15,
   "metadata": {},
   "outputs": [
    {
     "data": {
      "text/html": [
       "<div>\n",
       "<style scoped>\n",
       "    .dataframe tbody tr th:only-of-type {\n",
       "        vertical-align: middle;\n",
       "    }\n",
       "\n",
       "    .dataframe tbody tr th {\n",
       "        vertical-align: top;\n",
       "    }\n",
       "\n",
       "    .dataframe thead th {\n",
       "        text-align: right;\n",
       "    }\n",
       "</style>\n",
       "<table border=\"1\" class=\"dataframe\">\n",
       "  <thead>\n",
       "    <tr style=\"text-align: right;\">\n",
       "      <th></th>\n",
       "      <th>0</th>\n",
       "      <th>1</th>\n",
       "      <th>2</th>\n",
       "      <th>3</th>\n",
       "      <th>4</th>\n",
       "    </tr>\n",
       "  </thead>\n",
       "  <tbody>\n",
       "    <tr>\n",
       "      <th>0</th>\n",
       "      <td>0.0</td>\n",
       "      <td>0.0</td>\n",
       "      <td>0.0</td>\n",
       "      <td>1.0</td>\n",
       "      <td>0.0</td>\n",
       "    </tr>\n",
       "    <tr>\n",
       "      <th>1</th>\n",
       "      <td>0.0</td>\n",
       "      <td>0.0</td>\n",
       "      <td>0.0</td>\n",
       "      <td>0.0</td>\n",
       "      <td>1.0</td>\n",
       "    </tr>\n",
       "    <tr>\n",
       "      <th>2</th>\n",
       "      <td>0.0</td>\n",
       "      <td>0.0</td>\n",
       "      <td>0.0</td>\n",
       "      <td>0.0</td>\n",
       "      <td>1.0</td>\n",
       "    </tr>\n",
       "    <tr>\n",
       "      <th>3</th>\n",
       "      <td>0.0</td>\n",
       "      <td>0.0</td>\n",
       "      <td>0.0</td>\n",
       "      <td>1.0</td>\n",
       "      <td>0.0</td>\n",
       "    </tr>\n",
       "    <tr>\n",
       "      <th>4</th>\n",
       "      <td>0.0</td>\n",
       "      <td>0.0</td>\n",
       "      <td>1.0</td>\n",
       "      <td>0.0</td>\n",
       "      <td>0.0</td>\n",
       "    </tr>\n",
       "  </tbody>\n",
       "</table>\n",
       "</div>"
      ],
      "text/plain": [
       "     0    1    2    3    4\n",
       "0  0.0  0.0  0.0  1.0  0.0\n",
       "1  0.0  0.0  0.0  0.0  1.0\n",
       "2  0.0  0.0  0.0  0.0  1.0\n",
       "3  0.0  0.0  0.0  1.0  0.0\n",
       "4  0.0  0.0  1.0  0.0  0.0"
      ]
     },
     "execution_count": 15,
     "metadata": {},
     "output_type": "execute_result"
    }
   ],
   "source": [
    "encoder = OneHotEncoder(handle_unknown='ignore')\n",
    "\n",
    "enc_columns = pd.DataFrame(encoder.fit_transform(encoded_column.reshape(-1,1)).toarray())\n",
    "enc_columns.head()"
   ]
  },
  {
   "cell_type": "code",
   "execution_count": 16,
   "metadata": {},
   "outputs": [
    {
     "data": {
      "text/html": [
       "<div>\n",
       "<style scoped>\n",
       "    .dataframe tbody tr th:only-of-type {\n",
       "        vertical-align: middle;\n",
       "    }\n",
       "\n",
       "    .dataframe tbody tr th {\n",
       "        vertical-align: top;\n",
       "    }\n",
       "\n",
       "    .dataframe thead th {\n",
       "        text-align: right;\n",
       "    }\n",
       "</style>\n",
       "<table border=\"1\" class=\"dataframe\">\n",
       "  <thead>\n",
       "    <tr style=\"text-align: right;\">\n",
       "      <th></th>\n",
       "      <th>CITACAO</th>\n",
       "      <th>DOC</th>\n",
       "      <th>HTML</th>\n",
       "      <th>LIVRO</th>\n",
       "      <th>PDF</th>\n",
       "    </tr>\n",
       "  </thead>\n",
       "  <tbody>\n",
       "    <tr>\n",
       "      <th>0</th>\n",
       "      <td>0.0</td>\n",
       "      <td>0.0</td>\n",
       "      <td>0.0</td>\n",
       "      <td>1.0</td>\n",
       "      <td>0.0</td>\n",
       "    </tr>\n",
       "  </tbody>\n",
       "</table>\n",
       "</div>"
      ],
      "text/plain": [
       "   CITACAO  DOC  HTML  LIVRO  PDF\n",
       "0      0.0  0.0   0.0    1.0  0.0"
      ]
     },
     "execution_count": 16,
     "metadata": {},
     "output_type": "execute_result"
    }
   ],
   "source": [
    "new_labels = ['CITACAO', 'DOC', 'HTML', 'LIVRO', 'PDF']\n",
    "enc_columns.columns = new_labels\n",
    "enc_columns.head(1)"
   ]
  },
  {
   "cell_type": "code",
   "execution_count": 17,
   "metadata": {},
   "outputs": [
    {
     "data": {
      "text/html": [
       "<div>\n",
       "<style scoped>\n",
       "    .dataframe tbody tr th:only-of-type {\n",
       "        vertical-align: middle;\n",
       "    }\n",
       "\n",
       "    .dataframe tbody tr th {\n",
       "        vertical-align: top;\n",
       "    }\n",
       "\n",
       "    .dataframe thead th {\n",
       "        text-align: right;\n",
       "    }\n",
       "</style>\n",
       "<table border=\"1\" class=\"dataframe\">\n",
       "  <thead>\n",
       "    <tr style=\"text-align: right;\">\n",
       "      <th></th>\n",
       "      <th>link</th>\n",
       "      <th>titulo</th>\n",
       "      <th>citacoes</th>\n",
       "      <th>ano</th>\n",
       "      <th>tipo_arquivo</th>\n",
       "      <th>versao</th>\n",
       "      <th>busca</th>\n",
       "      <th>y</th>\n",
       "      <th>CITACAO</th>\n",
       "      <th>DOC</th>\n",
       "      <th>HTML</th>\n",
       "      <th>LIVRO</th>\n",
       "      <th>PDF</th>\n",
       "    </tr>\n",
       "  </thead>\n",
       "  <tbody>\n",
       "    <tr>\n",
       "      <th>0</th>\n",
       "      <td>https://www.academia.edu/download/55091016/alg...</td>\n",
       "      <td>Introducción a los algoritmos genéticos y la p...</td>\n",
       "      <td>75</td>\n",
       "      <td>2010</td>\n",
       "      <td>LIVRO</td>\n",
       "      <td>3</td>\n",
       "      <td>algoritmos+geneticos</td>\n",
       "      <td>1</td>\n",
       "      <td>0.0</td>\n",
       "      <td>0.0</td>\n",
       "      <td>0.0</td>\n",
       "      <td>1.0</td>\n",
       "      <td>0.0</td>\n",
       "    </tr>\n",
       "  </tbody>\n",
       "</table>\n",
       "</div>"
      ],
      "text/plain": [
       "                                                link  \\\n",
       "0  https://www.academia.edu/download/55091016/alg...   \n",
       "\n",
       "                                              titulo  citacoes   ano  \\\n",
       "0  Introducción a los algoritmos genéticos y la p...        75  2010   \n",
       "\n",
       "  tipo_arquivo  versao                 busca  y  CITACAO  DOC  HTML  LIVRO  \\\n",
       "0        LIVRO       3  algoritmos+geneticos  1      0.0  0.0   0.0    1.0   \n",
       "\n",
       "   PDF  \n",
       "0  0.0  "
      ]
     },
     "execution_count": 17,
     "metadata": {},
     "output_type": "execute_result"
    }
   ],
   "source": [
    "df_limpo = df_limpo.join(enc_columns)\n",
    "df_limpo.head(1)"
   ]
  },
  {
   "cell_type": "code",
   "execution_count": 18,
   "metadata": {},
   "outputs": [
    {
     "data": {
      "text/html": [
       "<div>\n",
       "<style scoped>\n",
       "    .dataframe tbody tr th:only-of-type {\n",
       "        vertical-align: middle;\n",
       "    }\n",
       "\n",
       "    .dataframe tbody tr th {\n",
       "        vertical-align: top;\n",
       "    }\n",
       "\n",
       "    .dataframe thead th {\n",
       "        text-align: right;\n",
       "    }\n",
       "</style>\n",
       "<table border=\"1\" class=\"dataframe\">\n",
       "  <thead>\n",
       "    <tr style=\"text-align: right;\">\n",
       "      <th></th>\n",
       "      <th>link</th>\n",
       "      <th>titulo</th>\n",
       "      <th>citacoes</th>\n",
       "      <th>ano</th>\n",
       "      <th>versao</th>\n",
       "      <th>busca</th>\n",
       "      <th>y</th>\n",
       "      <th>CITACAO</th>\n",
       "      <th>DOC</th>\n",
       "      <th>HTML</th>\n",
       "      <th>LIVRO</th>\n",
       "      <th>PDF</th>\n",
       "    </tr>\n",
       "  </thead>\n",
       "  <tbody>\n",
       "    <tr>\n",
       "      <th>0</th>\n",
       "      <td>https://www.academia.edu/download/55091016/alg...</td>\n",
       "      <td>Introducción a los algoritmos genéticos y la p...</td>\n",
       "      <td>75</td>\n",
       "      <td>2010</td>\n",
       "      <td>3</td>\n",
       "      <td>algoritmos+geneticos</td>\n",
       "      <td>1</td>\n",
       "      <td>0.0</td>\n",
       "      <td>0.0</td>\n",
       "      <td>0.0</td>\n",
       "      <td>1.0</td>\n",
       "      <td>0.0</td>\n",
       "    </tr>\n",
       "  </tbody>\n",
       "</table>\n",
       "</div>"
      ],
      "text/plain": [
       "                                                link  \\\n",
       "0  https://www.academia.edu/download/55091016/alg...   \n",
       "\n",
       "                                              titulo  citacoes   ano  versao  \\\n",
       "0  Introducción a los algoritmos genéticos y la p...        75  2010       3   \n",
       "\n",
       "                  busca  y  CITACAO  DOC  HTML  LIVRO  PDF  \n",
       "0  algoritmos+geneticos  1      0.0  0.0   0.0    1.0  0.0  "
      ]
     },
     "execution_count": 18,
     "metadata": {},
     "output_type": "execute_result"
    }
   ],
   "source": [
    "df_limpo = df_limpo.drop(['tipo_arquivo'], axis=1)\n",
    "df_limpo.head(1)"
   ]
  },
  {
   "cell_type": "markdown",
   "metadata": {},
   "source": [
    "#### Transformando a coluna 'titulo'"
   ]
  },
  {
   "cell_type": "code",
   "execution_count": 19,
   "metadata": {},
   "outputs": [
    {
     "data": {
      "text/plain": [
       "0      Introducción a los algoritmos genéticos y la p...\n",
       "1             Optimización mediante algoritmos genéticos\n",
       "2                                   Algoritmos genéticos\n",
       "3                                   Algoritmos genéticos\n",
       "4           Algoritmos genéticos y computación evolutiva\n",
       "                             ...                        \n",
       "395    Machine learning for molecular and materials s...\n",
       "396    Speeding up distributed machine learning using...\n",
       "397                     Multi-objective machine learning\n",
       "398    Transferability in machine learning: from phen...\n",
       "399    Using machine learning to break visual human i...\n",
       "Name: titulo, Length: 400, dtype: object"
      ]
     },
     "execution_count": 19,
     "metadata": {},
     "output_type": "execute_result"
    }
   ],
   "source": [
    "coluna_titulo = df_limpo['titulo']\n",
    "coluna_titulo"
   ]
  },
  {
   "cell_type": "code",
   "execution_count": 20,
   "metadata": {},
   "outputs": [],
   "source": [
    "from sklearn.feature_extraction.text import TfidfVectorizer\n",
    "vectorizer = TfidfVectorizer(min_df=2, ngram_range=(1,3))\n",
    "titulo_vec = vectorizer.fit_transform(coluna_titulo)"
   ]
  },
  {
   "cell_type": "code",
   "execution_count": 21,
   "metadata": {},
   "outputs": [
    {
     "data": {
      "text/plain": [
       "(400, 972)"
      ]
     },
     "execution_count": 21,
     "metadata": {},
     "output_type": "execute_result"
    }
   ],
   "source": [
    "titulo_vec.shape"
   ]
  },
  {
   "cell_type": "code",
   "execution_count": 22,
   "metadata": {},
   "outputs": [
    {
     "data": {
      "text/html": [
       "<div>\n",
       "<style scoped>\n",
       "    .dataframe tbody tr th:only-of-type {\n",
       "        vertical-align: middle;\n",
       "    }\n",
       "\n",
       "    .dataframe tbody tr th {\n",
       "        vertical-align: top;\n",
       "    }\n",
       "\n",
       "    .dataframe thead th {\n",
       "        text-align: right;\n",
       "    }\n",
       "</style>\n",
       "<table border=\"1\" class=\"dataframe\">\n",
       "  <thead>\n",
       "    <tr style=\"text-align: right;\">\n",
       "      <th></th>\n",
       "      <th>abastecimento</th>\n",
       "      <th>abastecimiento</th>\n",
       "      <th>abastecimiento de</th>\n",
       "      <th>abastecimiento de agua</th>\n",
       "      <th>abordagem</th>\n",
       "      <th>abordagem de</th>\n",
       "      <th>abordagem de algoritmos</th>\n",
       "      <th>adaptativo</th>\n",
       "      <th>adversarial</th>\n",
       "      <th>adversarial machine</th>\n",
       "      <th>...</th>\n",
       "      <th>água</th>\n",
       "      <th>índices</th>\n",
       "      <th>índices bursátiles</th>\n",
       "      <th>óptima</th>\n",
       "      <th>óptima de</th>\n",
       "      <th>óptimo</th>\n",
       "      <th>óptimo de</th>\n",
       "      <th>ótima</th>\n",
       "      <th>ótima de</th>\n",
       "      <th>ótima de sistemas</th>\n",
       "    </tr>\n",
       "  </thead>\n",
       "  <tbody>\n",
       "    <tr>\n",
       "      <th>0</th>\n",
       "      <td>0.0</td>\n",
       "      <td>0.0</td>\n",
       "      <td>0.0</td>\n",
       "      <td>0.0</td>\n",
       "      <td>0.0</td>\n",
       "      <td>0.0</td>\n",
       "      <td>0.0</td>\n",
       "      <td>0.0</td>\n",
       "      <td>0.0</td>\n",
       "      <td>0.0</td>\n",
       "      <td>...</td>\n",
       "      <td>0.0</td>\n",
       "      <td>0.0</td>\n",
       "      <td>0.0</td>\n",
       "      <td>0.0</td>\n",
       "      <td>0.0</td>\n",
       "      <td>0.0</td>\n",
       "      <td>0.0</td>\n",
       "      <td>0.0</td>\n",
       "      <td>0.0</td>\n",
       "      <td>0.0</td>\n",
       "    </tr>\n",
       "  </tbody>\n",
       "</table>\n",
       "<p>1 rows × 972 columns</p>\n",
       "</div>"
      ],
      "text/plain": [
       "   abastecimento  abastecimiento  abastecimiento de  abastecimiento de agua  \\\n",
       "0            0.0             0.0                0.0                     0.0   \n",
       "\n",
       "   abordagem  abordagem de  abordagem de algoritmos  adaptativo  adversarial  \\\n",
       "0        0.0           0.0                      0.0         0.0          0.0   \n",
       "\n",
       "   adversarial machine  ...  água  índices  índices bursátiles  óptima  \\\n",
       "0                  0.0  ...   0.0      0.0                 0.0     0.0   \n",
       "\n",
       "   óptima de  óptimo  óptimo de  ótima  ótima de  ótima de sistemas  \n",
       "0        0.0     0.0        0.0    0.0       0.0                0.0  \n",
       "\n",
       "[1 rows x 972 columns]"
      ]
     },
     "execution_count": 22,
     "metadata": {},
     "output_type": "execute_result"
    }
   ],
   "source": [
    "df_titulo = pd.DataFrame(titulo_vec.toarray(), columns=vectorizer.get_feature_names())\n",
    "df_titulo.head(1)"
   ]
  },
  {
   "cell_type": "code",
   "execution_count": 23,
   "metadata": {},
   "outputs": [],
   "source": [
    "df_limpo.rename(columns={'busca': 'busca_executada'}, inplace=True)"
   ]
  },
  {
   "cell_type": "code",
   "execution_count": 24,
   "metadata": {},
   "outputs": [
    {
     "data": {
      "text/html": [
       "<div>\n",
       "<style scoped>\n",
       "    .dataframe tbody tr th:only-of-type {\n",
       "        vertical-align: middle;\n",
       "    }\n",
       "\n",
       "    .dataframe tbody tr th {\n",
       "        vertical-align: top;\n",
       "    }\n",
       "\n",
       "    .dataframe thead th {\n",
       "        text-align: right;\n",
       "    }\n",
       "</style>\n",
       "<table border=\"1\" class=\"dataframe\">\n",
       "  <thead>\n",
       "    <tr style=\"text-align: right;\">\n",
       "      <th></th>\n",
       "      <th>link</th>\n",
       "      <th>titulo</th>\n",
       "      <th>citacoes</th>\n",
       "      <th>ano</th>\n",
       "      <th>versao</th>\n",
       "      <th>busca_executada</th>\n",
       "      <th>y</th>\n",
       "      <th>CITACAO</th>\n",
       "      <th>DOC</th>\n",
       "      <th>HTML</th>\n",
       "      <th>LIVRO</th>\n",
       "      <th>PDF</th>\n",
       "    </tr>\n",
       "  </thead>\n",
       "  <tbody>\n",
       "    <tr>\n",
       "      <th>0</th>\n",
       "      <td>https://www.academia.edu/download/55091016/alg...</td>\n",
       "      <td>Introducción a los algoritmos genéticos y la p...</td>\n",
       "      <td>75</td>\n",
       "      <td>2010</td>\n",
       "      <td>3</td>\n",
       "      <td>algoritmos+geneticos</td>\n",
       "      <td>1</td>\n",
       "      <td>0.0</td>\n",
       "      <td>0.0</td>\n",
       "      <td>0.0</td>\n",
       "      <td>1.0</td>\n",
       "      <td>0.0</td>\n",
       "    </tr>\n",
       "  </tbody>\n",
       "</table>\n",
       "</div>"
      ],
      "text/plain": [
       "                                                link  \\\n",
       "0  https://www.academia.edu/download/55091016/alg...   \n",
       "\n",
       "                                              titulo  citacoes   ano  versao  \\\n",
       "0  Introducción a los algoritmos genéticos y la p...        75  2010       3   \n",
       "\n",
       "        busca_executada  y  CITACAO  DOC  HTML  LIVRO  PDF  \n",
       "0  algoritmos+geneticos  1      0.0  0.0   0.0    1.0  0.0  "
      ]
     },
     "execution_count": 24,
     "metadata": {},
     "output_type": "execute_result"
    }
   ],
   "source": [
    "df_limpo.head(1)"
   ]
  },
  {
   "cell_type": "code",
   "execution_count": 25,
   "metadata": {},
   "outputs": [
    {
     "data": {
      "text/html": [
       "<div>\n",
       "<style scoped>\n",
       "    .dataframe tbody tr th:only-of-type {\n",
       "        vertical-align: middle;\n",
       "    }\n",
       "\n",
       "    .dataframe tbody tr th {\n",
       "        vertical-align: top;\n",
       "    }\n",
       "\n",
       "    .dataframe thead th {\n",
       "        text-align: right;\n",
       "    }\n",
       "</style>\n",
       "<table border=\"1\" class=\"dataframe\">\n",
       "  <thead>\n",
       "    <tr style=\"text-align: right;\">\n",
       "      <th></th>\n",
       "      <th>link</th>\n",
       "      <th>titulo</th>\n",
       "      <th>citacoes</th>\n",
       "      <th>ano</th>\n",
       "      <th>versao</th>\n",
       "      <th>busca_executada</th>\n",
       "      <th>y</th>\n",
       "      <th>CITACAO</th>\n",
       "      <th>DOC</th>\n",
       "      <th>HTML</th>\n",
       "      <th>...</th>\n",
       "      <th>água</th>\n",
       "      <th>índices</th>\n",
       "      <th>índices bursátiles</th>\n",
       "      <th>óptima</th>\n",
       "      <th>óptima de</th>\n",
       "      <th>óptimo</th>\n",
       "      <th>óptimo de</th>\n",
       "      <th>ótima</th>\n",
       "      <th>ótima de</th>\n",
       "      <th>ótima de sistemas</th>\n",
       "    </tr>\n",
       "  </thead>\n",
       "  <tbody>\n",
       "    <tr>\n",
       "      <th>0</th>\n",
       "      <td>https://www.academia.edu/download/55091016/alg...</td>\n",
       "      <td>Introducción a los algoritmos genéticos y la p...</td>\n",
       "      <td>75</td>\n",
       "      <td>2010</td>\n",
       "      <td>3</td>\n",
       "      <td>algoritmos+geneticos</td>\n",
       "      <td>1</td>\n",
       "      <td>0.0</td>\n",
       "      <td>0.0</td>\n",
       "      <td>0.0</td>\n",
       "      <td>...</td>\n",
       "      <td>0.0</td>\n",
       "      <td>0.0</td>\n",
       "      <td>0.0</td>\n",
       "      <td>0.0</td>\n",
       "      <td>0.0</td>\n",
       "      <td>0.0</td>\n",
       "      <td>0.0</td>\n",
       "      <td>0.0</td>\n",
       "      <td>0.0</td>\n",
       "      <td>0.0</td>\n",
       "    </tr>\n",
       "  </tbody>\n",
       "</table>\n",
       "<p>1 rows × 984 columns</p>\n",
       "</div>"
      ],
      "text/plain": [
       "                                                link  \\\n",
       "0  https://www.academia.edu/download/55091016/alg...   \n",
       "\n",
       "                                              titulo  citacoes   ano  versao  \\\n",
       "0  Introducción a los algoritmos genéticos y la p...        75  2010       3   \n",
       "\n",
       "        busca_executada  y  CITACAO  DOC  HTML  ...  água  índices  \\\n",
       "0  algoritmos+geneticos  1      0.0  0.0   0.0  ...   0.0      0.0   \n",
       "\n",
       "   índices bursátiles  óptima  óptima de  óptimo  óptimo de  ótima  ótima de  \\\n",
       "0                 0.0     0.0        0.0     0.0        0.0    0.0       0.0   \n",
       "\n",
       "   ótima de sistemas  \n",
       "0                0.0  \n",
       "\n",
       "[1 rows x 984 columns]"
      ]
     },
     "execution_count": 25,
     "metadata": {},
     "output_type": "execute_result"
    }
   ],
   "source": [
    "df_limpo = df_limpo.join(df_titulo)\n",
    "df_limpo.head(1)"
   ]
  },
  {
   "cell_type": "code",
   "execution_count": 26,
   "metadata": {},
   "outputs": [],
   "source": [
    "y = df_limpo.y\n",
    "X = df_limpo.drop(['y', 'titulo', 'link', 'busca_executada'], axis=1)"
   ]
  },
  {
   "cell_type": "code",
   "execution_count": 27,
   "metadata": {},
   "outputs": [
    {
     "data": {
      "text/plain": [
       "(400, 980)"
      ]
     },
     "execution_count": 27,
     "metadata": {},
     "output_type": "execute_result"
    }
   ],
   "source": [
    "X.shape"
   ]
  },
  {
   "cell_type": "code",
   "execution_count": 28,
   "metadata": {},
   "outputs": [],
   "source": [
    "from sklearn.model_selection import train_test_split\n",
    "X_train, X_test, y_train, y_test = train_test_split(X, y, test_size=0.2, random_state=0)"
   ]
  },
  {
   "cell_type": "code",
   "execution_count": 29,
   "metadata": {},
   "outputs": [
    {
     "data": {
      "text/plain": [
       "RandomForestClassifier(bootstrap=True, ccp_alpha=0.0, class_weight='balanced',\n",
       "                       criterion='gini', max_depth=None, max_features='auto',\n",
       "                       max_leaf_nodes=None, max_samples=None,\n",
       "                       min_impurity_decrease=0.0, min_impurity_split=None,\n",
       "                       min_samples_leaf=1, min_samples_split=2,\n",
       "                       min_weight_fraction_leaf=0.0, n_estimators=1000,\n",
       "                       n_jobs=2, oob_score=False, random_state=0, verbose=0,\n",
       "                       warm_start=False)"
      ]
     },
     "execution_count": 29,
     "metadata": {},
     "output_type": "execute_result"
    }
   ],
   "source": [
    "from sklearn.ensemble import RandomForestClassifier\n",
    "rf = RandomForestClassifier(n_estimators=1000, random_state=0, min_samples_leaf=1, class_weight='balanced', n_jobs=2)\n",
    "rf.fit(X_train, y_train)"
   ]
  },
  {
   "cell_type": "code",
   "execution_count": 30,
   "metadata": {},
   "outputs": [
    {
     "data": {
      "text/plain": [
       "array([0.052, 0.318, 0.956, 0.038, 0.841, 0.071, 0.178, 0.918, 0.083,\n",
       "       0.859, 0.066, 0.051, 0.221, 0.734, 0.67 , 0.042, 0.754, 0.073,\n",
       "       0.632, 0.062, 0.023, 0.756, 0.003, 0.654, 0.078, 0.93 , 0.119,\n",
       "       0.063, 0.916, 0.112, 0.033, 0.875, 0.829, 0.978, 0.013, 0.228,\n",
       "       0.045, 0.033, 0.032, 0.211, 0.16 , 0.813, 0.381, 0.276, 0.441,\n",
       "       0.039, 0.728, 0.388, 0.049, 0.988, 0.923, 0.014, 0.973, 0.106,\n",
       "       0.701, 0.662, 0.013, 0.077, 0.014, 0.053, 0.033, 0.889, 0.147,\n",
       "       0.812, 0.087, 0.66 , 0.047, 0.061, 0.135, 0.682, 0.101, 0.393,\n",
       "       0.007, 0.182, 0.032, 0.082, 0.889, 0.614, 0.913, 0.787])"
      ]
     },
     "execution_count": 30,
     "metadata": {},
     "output_type": "execute_result"
    }
   ],
   "source": [
    "predicted = rf.predict_proba(X_test)[:, 1]\n",
    "predicted"
   ]
  },
  {
   "cell_type": "code",
   "execution_count": 31,
   "metadata": {},
   "outputs": [
    {
     "name": "stdout",
     "output_type": "stream",
     "text": [
      "AUC: 0.9117445054945056 | Average Precision: 0.8975543010873304\n"
     ]
    }
   ],
   "source": [
    "from sklearn.metrics import roc_auc_score, average_precision_score\n",
    "roc_auc = roc_auc_score(y_test, predicted)\n",
    "ap = average_precision_score(y_test, predicted)\n",
    "\n",
    "print(\"AUC: {} | Average Precision: {}\".format(roc_auc, ap))"
   ]
  },
  {
   "cell_type": "markdown",
   "metadata": {},
   "source": [
    "## Parâmetros testados do Random Forest"
   ]
  },
  {
   "cell_type": "markdown",
   "metadata": {},
   "source": [
    "### n_estimators=100, min_samples_leaf=1, min_df=2:\n",
    "     AUC: 0.9385 | AP: 0.9328"
   ]
  },
  {
   "cell_type": "markdown",
   "metadata": {},
   "source": [
    "### n_estimators=100, min_samples_leaf=2, min_df=2:\n",
    "     AUC: 0.9244 | AP: 0.8784"
   ]
  },
  {
   "cell_type": "markdown",
   "metadata": {},
   "source": [
    "### n_estimators=1000, min_samples_leaf=1, min_df=2:\n",
    "     AUC: 0.9375 | AP: 0.9300"
   ]
  },
  {
   "cell_type": "markdown",
   "metadata": {},
   "source": [
    "## Parâmetros testados do TfidfVectorizer"
   ]
  },
  {
   "cell_type": "markdown",
   "metadata": {},
   "source": [
    "### min_df=2, n_gram(1,1):\n",
    "    AUC: 0.9375 | AP: 0.9300\n",
    "\n",
    "### min_df=2, n_gram(1,2):\n",
    "    AUC: 0.9265 | AP: 0.9213\n",
    "\n",
    "### min_df=2, n_gram(1,3): \n",
    "    AUC: 0.9117 | AP: 0.8975\n",
    "    "
   ]
  },
  {
   "cell_type": "markdown",
   "metadata": {},
   "source": [
    "## LightGBM"
   ]
  },
  {
   "cell_type": "code",
   "execution_count": 32,
   "metadata": {},
   "outputs": [],
   "source": [
    "from lightgbm import LGBMClassifier"
   ]
  },
  {
   "cell_type": "code",
   "execution_count": 33,
   "metadata": {},
   "outputs": [
    {
     "ename": "LightGBMError",
     "evalue": "Do not support non-ASCII characters in feature name.",
     "output_type": "error",
     "traceback": [
      "\u001b[1;31m---------------------------------------------------------------------------\u001b[0m",
      "\u001b[1;31mLightGBMError\u001b[0m                             Traceback (most recent call last)",
      "\u001b[1;32m<ipython-input-33-5f0c3409b114>\u001b[0m in \u001b[0;36m<module>\u001b[1;34m\u001b[0m\n\u001b[0;32m      1\u001b[0m \u001b[0mlgbm\u001b[0m \u001b[1;33m=\u001b[0m \u001b[0mLGBMClassifier\u001b[0m\u001b[1;33m(\u001b[0m\u001b[0mrandom_state\u001b[0m\u001b[1;33m=\u001b[0m\u001b[1;36m0\u001b[0m\u001b[1;33m,\u001b[0m \u001b[0mclass_weight\u001b[0m\u001b[1;33m=\u001b[0m\u001b[1;34m\"balanced\"\u001b[0m\u001b[1;33m,\u001b[0m \u001b[0mn_jobs\u001b[0m\u001b[1;33m=\u001b[0m\u001b[1;36m2\u001b[0m\u001b[1;33m)\u001b[0m\u001b[1;33m\u001b[0m\u001b[1;33m\u001b[0m\u001b[0m\n\u001b[1;32m----> 2\u001b[1;33m \u001b[0mlgbm\u001b[0m\u001b[1;33m.\u001b[0m\u001b[0mfit\u001b[0m\u001b[1;33m(\u001b[0m\u001b[0mX_train\u001b[0m\u001b[1;33m,\u001b[0m \u001b[0my_train\u001b[0m\u001b[1;33m)\u001b[0m\u001b[1;33m\u001b[0m\u001b[1;33m\u001b[0m\u001b[0m\n\u001b[0m",
      "\u001b[1;32mc:\\users\\alexandre\\appdata\\local\\programs\\python\\python38\\lib\\site-packages\\lightgbm\\sklearn.py\u001b[0m in \u001b[0;36mfit\u001b[1;34m(self, X, y, sample_weight, init_score, eval_set, eval_names, eval_sample_weight, eval_class_weight, eval_init_score, eval_metric, early_stopping_rounds, verbose, feature_name, categorical_feature, callbacks)\u001b[0m\n\u001b[0;32m    793\u001b[0m                     \u001b[0meval_set\u001b[0m\u001b[1;33m[\u001b[0m\u001b[0mi\u001b[0m\u001b[1;33m]\u001b[0m \u001b[1;33m=\u001b[0m \u001b[1;33m(\u001b[0m\u001b[0mvalid_x\u001b[0m\u001b[1;33m,\u001b[0m \u001b[0mself\u001b[0m\u001b[1;33m.\u001b[0m\u001b[0m_le\u001b[0m\u001b[1;33m.\u001b[0m\u001b[0mtransform\u001b[0m\u001b[1;33m(\u001b[0m\u001b[0mvalid_y\u001b[0m\u001b[1;33m)\u001b[0m\u001b[1;33m)\u001b[0m\u001b[1;33m\u001b[0m\u001b[1;33m\u001b[0m\u001b[0m\n\u001b[0;32m    794\u001b[0m \u001b[1;33m\u001b[0m\u001b[0m\n\u001b[1;32m--> 795\u001b[1;33m         super(LGBMClassifier, self).fit(X, _y, sample_weight=sample_weight,\n\u001b[0m\u001b[0;32m    796\u001b[0m                                         \u001b[0minit_score\u001b[0m\u001b[1;33m=\u001b[0m\u001b[0minit_score\u001b[0m\u001b[1;33m,\u001b[0m \u001b[0meval_set\u001b[0m\u001b[1;33m=\u001b[0m\u001b[0meval_set\u001b[0m\u001b[1;33m,\u001b[0m\u001b[1;33m\u001b[0m\u001b[1;33m\u001b[0m\u001b[0m\n\u001b[0;32m    797\u001b[0m                                         \u001b[0meval_names\u001b[0m\u001b[1;33m=\u001b[0m\u001b[0meval_names\u001b[0m\u001b[1;33m,\u001b[0m\u001b[1;33m\u001b[0m\u001b[1;33m\u001b[0m\u001b[0m\n",
      "\u001b[1;32mc:\\users\\alexandre\\appdata\\local\\programs\\python\\python38\\lib\\site-packages\\lightgbm\\sklearn.py\u001b[0m in \u001b[0;36mfit\u001b[1;34m(self, X, y, sample_weight, init_score, group, eval_set, eval_names, eval_sample_weight, eval_class_weight, eval_init_score, eval_group, eval_metric, early_stopping_rounds, verbose, feature_name, categorical_feature, callbacks)\u001b[0m\n\u001b[0;32m    592\u001b[0m                 \u001b[0mvalid_sets\u001b[0m\u001b[1;33m.\u001b[0m\u001b[0mappend\u001b[0m\u001b[1;33m(\u001b[0m\u001b[0mvalid_set\u001b[0m\u001b[1;33m)\u001b[0m\u001b[1;33m\u001b[0m\u001b[1;33m\u001b[0m\u001b[0m\n\u001b[0;32m    593\u001b[0m \u001b[1;33m\u001b[0m\u001b[0m\n\u001b[1;32m--> 594\u001b[1;33m         self._Booster = train(params, train_set,\n\u001b[0m\u001b[0;32m    595\u001b[0m                               \u001b[0mself\u001b[0m\u001b[1;33m.\u001b[0m\u001b[0mn_estimators\u001b[0m\u001b[1;33m,\u001b[0m \u001b[0mvalid_sets\u001b[0m\u001b[1;33m=\u001b[0m\u001b[0mvalid_sets\u001b[0m\u001b[1;33m,\u001b[0m \u001b[0mvalid_names\u001b[0m\u001b[1;33m=\u001b[0m\u001b[0meval_names\u001b[0m\u001b[1;33m,\u001b[0m\u001b[1;33m\u001b[0m\u001b[1;33m\u001b[0m\u001b[0m\n\u001b[0;32m    596\u001b[0m                               \u001b[0mearly_stopping_rounds\u001b[0m\u001b[1;33m=\u001b[0m\u001b[0mearly_stopping_rounds\u001b[0m\u001b[1;33m,\u001b[0m\u001b[1;33m\u001b[0m\u001b[1;33m\u001b[0m\u001b[0m\n",
      "\u001b[1;32mc:\\users\\alexandre\\appdata\\local\\programs\\python\\python38\\lib\\site-packages\\lightgbm\\engine.py\u001b[0m in \u001b[0;36mtrain\u001b[1;34m(params, train_set, num_boost_round, valid_sets, valid_names, fobj, feval, init_model, feature_name, categorical_feature, early_stopping_rounds, evals_result, verbose_eval, learning_rates, keep_training_booster, callbacks)\u001b[0m\n\u001b[0;32m    226\u001b[0m     \u001b[1;31m# construct booster\u001b[0m\u001b[1;33m\u001b[0m\u001b[1;33m\u001b[0m\u001b[1;33m\u001b[0m\u001b[0m\n\u001b[0;32m    227\u001b[0m     \u001b[1;32mtry\u001b[0m\u001b[1;33m:\u001b[0m\u001b[1;33m\u001b[0m\u001b[1;33m\u001b[0m\u001b[0m\n\u001b[1;32m--> 228\u001b[1;33m         \u001b[0mbooster\u001b[0m \u001b[1;33m=\u001b[0m \u001b[0mBooster\u001b[0m\u001b[1;33m(\u001b[0m\u001b[0mparams\u001b[0m\u001b[1;33m=\u001b[0m\u001b[0mparams\u001b[0m\u001b[1;33m,\u001b[0m \u001b[0mtrain_set\u001b[0m\u001b[1;33m=\u001b[0m\u001b[0mtrain_set\u001b[0m\u001b[1;33m)\u001b[0m\u001b[1;33m\u001b[0m\u001b[1;33m\u001b[0m\u001b[0m\n\u001b[0m\u001b[0;32m    229\u001b[0m         \u001b[1;32mif\u001b[0m \u001b[0mis_valid_contain_train\u001b[0m\u001b[1;33m:\u001b[0m\u001b[1;33m\u001b[0m\u001b[1;33m\u001b[0m\u001b[0m\n\u001b[0;32m    230\u001b[0m             \u001b[0mbooster\u001b[0m\u001b[1;33m.\u001b[0m\u001b[0mset_train_data_name\u001b[0m\u001b[1;33m(\u001b[0m\u001b[0mtrain_data_name\u001b[0m\u001b[1;33m)\u001b[0m\u001b[1;33m\u001b[0m\u001b[1;33m\u001b[0m\u001b[0m\n",
      "\u001b[1;32mc:\\users\\alexandre\\appdata\\local\\programs\\python\\python38\\lib\\site-packages\\lightgbm\\basic.py\u001b[0m in \u001b[0;36m__init__\u001b[1;34m(self, params, train_set, model_file, model_str, silent)\u001b[0m\n\u001b[0;32m   1712\u001b[0m             \u001b[0mself\u001b[0m\u001b[1;33m.\u001b[0m\u001b[0mhandle\u001b[0m \u001b[1;33m=\u001b[0m \u001b[0mctypes\u001b[0m\u001b[1;33m.\u001b[0m\u001b[0mc_void_p\u001b[0m\u001b[1;33m(\u001b[0m\u001b[1;33m)\u001b[0m\u001b[1;33m\u001b[0m\u001b[1;33m\u001b[0m\u001b[0m\n\u001b[0;32m   1713\u001b[0m             _safe_call(_LIB.LGBM_BoosterCreate(\n\u001b[1;32m-> 1714\u001b[1;33m                 \u001b[0mtrain_set\u001b[0m\u001b[1;33m.\u001b[0m\u001b[0mconstruct\u001b[0m\u001b[1;33m(\u001b[0m\u001b[1;33m)\u001b[0m\u001b[1;33m.\u001b[0m\u001b[0mhandle\u001b[0m\u001b[1;33m,\u001b[0m\u001b[1;33m\u001b[0m\u001b[1;33m\u001b[0m\u001b[0m\n\u001b[0m\u001b[0;32m   1715\u001b[0m                 \u001b[0mc_str\u001b[0m\u001b[1;33m(\u001b[0m\u001b[0mparams_str\u001b[0m\u001b[1;33m)\u001b[0m\u001b[1;33m,\u001b[0m\u001b[1;33m\u001b[0m\u001b[1;33m\u001b[0m\u001b[0m\n\u001b[0;32m   1716\u001b[0m                 ctypes.byref(self.handle)))\n",
      "\u001b[1;32mc:\\users\\alexandre\\appdata\\local\\programs\\python\\python38\\lib\\site-packages\\lightgbm\\basic.py\u001b[0m in \u001b[0;36mconstruct\u001b[1;34m(self)\u001b[0m\n\u001b[0;32m   1079\u001b[0m             \u001b[1;32melse\u001b[0m\u001b[1;33m:\u001b[0m\u001b[1;33m\u001b[0m\u001b[1;33m\u001b[0m\u001b[0m\n\u001b[0;32m   1080\u001b[0m                 \u001b[1;31m# create train\u001b[0m\u001b[1;33m\u001b[0m\u001b[1;33m\u001b[0m\u001b[1;33m\u001b[0m\u001b[0m\n\u001b[1;32m-> 1081\u001b[1;33m                 self._lazy_init(self.data, label=self.label,\n\u001b[0m\u001b[0;32m   1082\u001b[0m                                 \u001b[0mweight\u001b[0m\u001b[1;33m=\u001b[0m\u001b[0mself\u001b[0m\u001b[1;33m.\u001b[0m\u001b[0mweight\u001b[0m\u001b[1;33m,\u001b[0m \u001b[0mgroup\u001b[0m\u001b[1;33m=\u001b[0m\u001b[0mself\u001b[0m\u001b[1;33m.\u001b[0m\u001b[0mgroup\u001b[0m\u001b[1;33m,\u001b[0m\u001b[1;33m\u001b[0m\u001b[1;33m\u001b[0m\u001b[0m\n\u001b[0;32m   1083\u001b[0m                                 \u001b[0minit_score\u001b[0m\u001b[1;33m=\u001b[0m\u001b[0mself\u001b[0m\u001b[1;33m.\u001b[0m\u001b[0minit_score\u001b[0m\u001b[1;33m,\u001b[0m \u001b[0mpredictor\u001b[0m\u001b[1;33m=\u001b[0m\u001b[0mself\u001b[0m\u001b[1;33m.\u001b[0m\u001b[0m_predictor\u001b[0m\u001b[1;33m,\u001b[0m\u001b[1;33m\u001b[0m\u001b[1;33m\u001b[0m\u001b[0m\n",
      "\u001b[1;32mc:\\users\\alexandre\\appdata\\local\\programs\\python\\python38\\lib\\site-packages\\lightgbm\\basic.py\u001b[0m in \u001b[0;36m_lazy_init\u001b[1;34m(self, data, label, reference, weight, group, init_score, predictor, silent, feature_name, categorical_feature, params)\u001b[0m\n\u001b[0;32m    913\u001b[0m             \u001b[1;32mraise\u001b[0m \u001b[0mTypeError\u001b[0m\u001b[1;33m(\u001b[0m\u001b[1;34m'Wrong predictor type {}'\u001b[0m\u001b[1;33m.\u001b[0m\u001b[0mformat\u001b[0m\u001b[1;33m(\u001b[0m\u001b[0mtype\u001b[0m\u001b[1;33m(\u001b[0m\u001b[0mpredictor\u001b[0m\u001b[1;33m)\u001b[0m\u001b[1;33m.\u001b[0m\u001b[0m__name__\u001b[0m\u001b[1;33m)\u001b[0m\u001b[1;33m)\u001b[0m\u001b[1;33m\u001b[0m\u001b[1;33m\u001b[0m\u001b[0m\n\u001b[0;32m    914\u001b[0m         \u001b[1;31m# set feature names\u001b[0m\u001b[1;33m\u001b[0m\u001b[1;33m\u001b[0m\u001b[1;33m\u001b[0m\u001b[0m\n\u001b[1;32m--> 915\u001b[1;33m         \u001b[1;32mreturn\u001b[0m \u001b[0mself\u001b[0m\u001b[1;33m.\u001b[0m\u001b[0mset_feature_name\u001b[0m\u001b[1;33m(\u001b[0m\u001b[0mfeature_name\u001b[0m\u001b[1;33m)\u001b[0m\u001b[1;33m\u001b[0m\u001b[1;33m\u001b[0m\u001b[0m\n\u001b[0m\u001b[0;32m    916\u001b[0m \u001b[1;33m\u001b[0m\u001b[0m\n\u001b[0;32m    917\u001b[0m     \u001b[1;32mdef\u001b[0m \u001b[0m__init_from_np2d\u001b[0m\u001b[1;33m(\u001b[0m\u001b[0mself\u001b[0m\u001b[1;33m,\u001b[0m \u001b[0mmat\u001b[0m\u001b[1;33m,\u001b[0m \u001b[0mparams_str\u001b[0m\u001b[1;33m,\u001b[0m \u001b[0mref_dataset\u001b[0m\u001b[1;33m)\u001b[0m\u001b[1;33m:\u001b[0m\u001b[1;33m\u001b[0m\u001b[1;33m\u001b[0m\u001b[0m\n",
      "\u001b[1;32mc:\\users\\alexandre\\appdata\\local\\programs\\python\\python38\\lib\\site-packages\\lightgbm\\basic.py\u001b[0m in \u001b[0;36mset_feature_name\u001b[1;34m(self, feature_name)\u001b[0m\n\u001b[0;32m   1363\u001b[0m                                  .format(len(feature_name), self.num_feature()))\n\u001b[0;32m   1364\u001b[0m             \u001b[0mc_feature_name\u001b[0m \u001b[1;33m=\u001b[0m \u001b[1;33m[\u001b[0m\u001b[0mc_str\u001b[0m\u001b[1;33m(\u001b[0m\u001b[0mname\u001b[0m\u001b[1;33m)\u001b[0m \u001b[1;32mfor\u001b[0m \u001b[0mname\u001b[0m \u001b[1;32min\u001b[0m \u001b[0mfeature_name\u001b[0m\u001b[1;33m]\u001b[0m\u001b[1;33m\u001b[0m\u001b[1;33m\u001b[0m\u001b[0m\n\u001b[1;32m-> 1365\u001b[1;33m             _safe_call(_LIB.LGBM_DatasetSetFeatureNames(\n\u001b[0m\u001b[0;32m   1366\u001b[0m                 \u001b[0mself\u001b[0m\u001b[1;33m.\u001b[0m\u001b[0mhandle\u001b[0m\u001b[1;33m,\u001b[0m\u001b[1;33m\u001b[0m\u001b[1;33m\u001b[0m\u001b[0m\n\u001b[0;32m   1367\u001b[0m                 \u001b[0mc_array\u001b[0m\u001b[1;33m(\u001b[0m\u001b[0mctypes\u001b[0m\u001b[1;33m.\u001b[0m\u001b[0mc_char_p\u001b[0m\u001b[1;33m,\u001b[0m \u001b[0mc_feature_name\u001b[0m\u001b[1;33m)\u001b[0m\u001b[1;33m,\u001b[0m\u001b[1;33m\u001b[0m\u001b[1;33m\u001b[0m\u001b[0m\n",
      "\u001b[1;32mc:\\users\\alexandre\\appdata\\local\\programs\\python\\python38\\lib\\site-packages\\lightgbm\\basic.py\u001b[0m in \u001b[0;36m_safe_call\u001b[1;34m(ret)\u001b[0m\n\u001b[0;32m     43\u001b[0m     \"\"\"\n\u001b[0;32m     44\u001b[0m     \u001b[1;32mif\u001b[0m \u001b[0mret\u001b[0m \u001b[1;33m!=\u001b[0m \u001b[1;36m0\u001b[0m\u001b[1;33m:\u001b[0m\u001b[1;33m\u001b[0m\u001b[1;33m\u001b[0m\u001b[0m\n\u001b[1;32m---> 45\u001b[1;33m         \u001b[1;32mraise\u001b[0m \u001b[0mLightGBMError\u001b[0m\u001b[1;33m(\u001b[0m\u001b[0mdecode_string\u001b[0m\u001b[1;33m(\u001b[0m\u001b[0m_LIB\u001b[0m\u001b[1;33m.\u001b[0m\u001b[0mLGBM_GetLastError\u001b[0m\u001b[1;33m(\u001b[0m\u001b[1;33m)\u001b[0m\u001b[1;33m)\u001b[0m\u001b[1;33m)\u001b[0m\u001b[1;33m\u001b[0m\u001b[1;33m\u001b[0m\u001b[0m\n\u001b[0m\u001b[0;32m     46\u001b[0m \u001b[1;33m\u001b[0m\u001b[0m\n\u001b[0;32m     47\u001b[0m \u001b[1;33m\u001b[0m\u001b[0m\n",
      "\u001b[1;31mLightGBMError\u001b[0m: Do not support non-ASCII characters in feature name."
     ]
    }
   ],
   "source": [
    "lgbm = LGBMClassifier(random_state=0, class_weight=\"balanced\", n_jobs=2)\n",
    "lgbm.fit(X_train, y_train)"
   ]
  },
  {
   "cell_type": "code",
   "execution_count": 34,
   "metadata": {},
   "outputs": [],
   "source": [
    "df_limpo.ano = df_limpo.ano.astype('int32')"
   ]
  },
  {
   "cell_type": "code",
   "execution_count": 35,
   "metadata": {},
   "outputs": [
    {
     "data": {
      "text/plain": [
       "citacoes               int32\n",
       "ano                    int32\n",
       "versao                 int32\n",
       "CITACAO              float64\n",
       "DOC                  float64\n",
       "                      ...   \n",
       "óptimo               float64\n",
       "óptimo de            float64\n",
       "ótima                float64\n",
       "ótima de             float64\n",
       "ótima de sistemas    float64\n",
       "Length: 980, dtype: object"
      ]
     },
     "execution_count": 35,
     "metadata": {},
     "output_type": "execute_result"
    }
   ],
   "source": [
    "X_train.dtypes"
   ]
  },
  {
   "cell_type": "code",
   "execution_count": 36,
   "metadata": {},
   "outputs": [
    {
     "ename": "LightGBMError",
     "evalue": "Do not support non-ASCII characters in feature name.",
     "output_type": "error",
     "traceback": [
      "\u001b[1;31m---------------------------------------------------------------------------\u001b[0m",
      "\u001b[1;31mLightGBMError\u001b[0m                             Traceback (most recent call last)",
      "\u001b[1;32m<ipython-input-36-55b9eead9e7b>\u001b[0m in \u001b[0;36m<module>\u001b[1;34m\u001b[0m\n\u001b[1;32m----> 1\u001b[1;33m \u001b[0mlgbm\u001b[0m\u001b[1;33m.\u001b[0m\u001b[0mfit\u001b[0m\u001b[1;33m(\u001b[0m\u001b[0mX_train\u001b[0m\u001b[1;33m,\u001b[0m \u001b[0my_train\u001b[0m\u001b[1;33m)\u001b[0m\u001b[1;33m\u001b[0m\u001b[1;33m\u001b[0m\u001b[0m\n\u001b[0m",
      "\u001b[1;32mc:\\users\\alexandre\\appdata\\local\\programs\\python\\python38\\lib\\site-packages\\lightgbm\\sklearn.py\u001b[0m in \u001b[0;36mfit\u001b[1;34m(self, X, y, sample_weight, init_score, eval_set, eval_names, eval_sample_weight, eval_class_weight, eval_init_score, eval_metric, early_stopping_rounds, verbose, feature_name, categorical_feature, callbacks)\u001b[0m\n\u001b[0;32m    793\u001b[0m                     \u001b[0meval_set\u001b[0m\u001b[1;33m[\u001b[0m\u001b[0mi\u001b[0m\u001b[1;33m]\u001b[0m \u001b[1;33m=\u001b[0m \u001b[1;33m(\u001b[0m\u001b[0mvalid_x\u001b[0m\u001b[1;33m,\u001b[0m \u001b[0mself\u001b[0m\u001b[1;33m.\u001b[0m\u001b[0m_le\u001b[0m\u001b[1;33m.\u001b[0m\u001b[0mtransform\u001b[0m\u001b[1;33m(\u001b[0m\u001b[0mvalid_y\u001b[0m\u001b[1;33m)\u001b[0m\u001b[1;33m)\u001b[0m\u001b[1;33m\u001b[0m\u001b[1;33m\u001b[0m\u001b[0m\n\u001b[0;32m    794\u001b[0m \u001b[1;33m\u001b[0m\u001b[0m\n\u001b[1;32m--> 795\u001b[1;33m         super(LGBMClassifier, self).fit(X, _y, sample_weight=sample_weight,\n\u001b[0m\u001b[0;32m    796\u001b[0m                                         \u001b[0minit_score\u001b[0m\u001b[1;33m=\u001b[0m\u001b[0minit_score\u001b[0m\u001b[1;33m,\u001b[0m \u001b[0meval_set\u001b[0m\u001b[1;33m=\u001b[0m\u001b[0meval_set\u001b[0m\u001b[1;33m,\u001b[0m\u001b[1;33m\u001b[0m\u001b[1;33m\u001b[0m\u001b[0m\n\u001b[0;32m    797\u001b[0m                                         \u001b[0meval_names\u001b[0m\u001b[1;33m=\u001b[0m\u001b[0meval_names\u001b[0m\u001b[1;33m,\u001b[0m\u001b[1;33m\u001b[0m\u001b[1;33m\u001b[0m\u001b[0m\n",
      "\u001b[1;32mc:\\users\\alexandre\\appdata\\local\\programs\\python\\python38\\lib\\site-packages\\lightgbm\\sklearn.py\u001b[0m in \u001b[0;36mfit\u001b[1;34m(self, X, y, sample_weight, init_score, group, eval_set, eval_names, eval_sample_weight, eval_class_weight, eval_init_score, eval_group, eval_metric, early_stopping_rounds, verbose, feature_name, categorical_feature, callbacks)\u001b[0m\n\u001b[0;32m    592\u001b[0m                 \u001b[0mvalid_sets\u001b[0m\u001b[1;33m.\u001b[0m\u001b[0mappend\u001b[0m\u001b[1;33m(\u001b[0m\u001b[0mvalid_set\u001b[0m\u001b[1;33m)\u001b[0m\u001b[1;33m\u001b[0m\u001b[1;33m\u001b[0m\u001b[0m\n\u001b[0;32m    593\u001b[0m \u001b[1;33m\u001b[0m\u001b[0m\n\u001b[1;32m--> 594\u001b[1;33m         self._Booster = train(params, train_set,\n\u001b[0m\u001b[0;32m    595\u001b[0m                               \u001b[0mself\u001b[0m\u001b[1;33m.\u001b[0m\u001b[0mn_estimators\u001b[0m\u001b[1;33m,\u001b[0m \u001b[0mvalid_sets\u001b[0m\u001b[1;33m=\u001b[0m\u001b[0mvalid_sets\u001b[0m\u001b[1;33m,\u001b[0m \u001b[0mvalid_names\u001b[0m\u001b[1;33m=\u001b[0m\u001b[0meval_names\u001b[0m\u001b[1;33m,\u001b[0m\u001b[1;33m\u001b[0m\u001b[1;33m\u001b[0m\u001b[0m\n\u001b[0;32m    596\u001b[0m                               \u001b[0mearly_stopping_rounds\u001b[0m\u001b[1;33m=\u001b[0m\u001b[0mearly_stopping_rounds\u001b[0m\u001b[1;33m,\u001b[0m\u001b[1;33m\u001b[0m\u001b[1;33m\u001b[0m\u001b[0m\n",
      "\u001b[1;32mc:\\users\\alexandre\\appdata\\local\\programs\\python\\python38\\lib\\site-packages\\lightgbm\\engine.py\u001b[0m in \u001b[0;36mtrain\u001b[1;34m(params, train_set, num_boost_round, valid_sets, valid_names, fobj, feval, init_model, feature_name, categorical_feature, early_stopping_rounds, evals_result, verbose_eval, learning_rates, keep_training_booster, callbacks)\u001b[0m\n\u001b[0;32m    226\u001b[0m     \u001b[1;31m# construct booster\u001b[0m\u001b[1;33m\u001b[0m\u001b[1;33m\u001b[0m\u001b[1;33m\u001b[0m\u001b[0m\n\u001b[0;32m    227\u001b[0m     \u001b[1;32mtry\u001b[0m\u001b[1;33m:\u001b[0m\u001b[1;33m\u001b[0m\u001b[1;33m\u001b[0m\u001b[0m\n\u001b[1;32m--> 228\u001b[1;33m         \u001b[0mbooster\u001b[0m \u001b[1;33m=\u001b[0m \u001b[0mBooster\u001b[0m\u001b[1;33m(\u001b[0m\u001b[0mparams\u001b[0m\u001b[1;33m=\u001b[0m\u001b[0mparams\u001b[0m\u001b[1;33m,\u001b[0m \u001b[0mtrain_set\u001b[0m\u001b[1;33m=\u001b[0m\u001b[0mtrain_set\u001b[0m\u001b[1;33m)\u001b[0m\u001b[1;33m\u001b[0m\u001b[1;33m\u001b[0m\u001b[0m\n\u001b[0m\u001b[0;32m    229\u001b[0m         \u001b[1;32mif\u001b[0m \u001b[0mis_valid_contain_train\u001b[0m\u001b[1;33m:\u001b[0m\u001b[1;33m\u001b[0m\u001b[1;33m\u001b[0m\u001b[0m\n\u001b[0;32m    230\u001b[0m             \u001b[0mbooster\u001b[0m\u001b[1;33m.\u001b[0m\u001b[0mset_train_data_name\u001b[0m\u001b[1;33m(\u001b[0m\u001b[0mtrain_data_name\u001b[0m\u001b[1;33m)\u001b[0m\u001b[1;33m\u001b[0m\u001b[1;33m\u001b[0m\u001b[0m\n",
      "\u001b[1;32mc:\\users\\alexandre\\appdata\\local\\programs\\python\\python38\\lib\\site-packages\\lightgbm\\basic.py\u001b[0m in \u001b[0;36m__init__\u001b[1;34m(self, params, train_set, model_file, model_str, silent)\u001b[0m\n\u001b[0;32m   1712\u001b[0m             \u001b[0mself\u001b[0m\u001b[1;33m.\u001b[0m\u001b[0mhandle\u001b[0m \u001b[1;33m=\u001b[0m \u001b[0mctypes\u001b[0m\u001b[1;33m.\u001b[0m\u001b[0mc_void_p\u001b[0m\u001b[1;33m(\u001b[0m\u001b[1;33m)\u001b[0m\u001b[1;33m\u001b[0m\u001b[1;33m\u001b[0m\u001b[0m\n\u001b[0;32m   1713\u001b[0m             _safe_call(_LIB.LGBM_BoosterCreate(\n\u001b[1;32m-> 1714\u001b[1;33m                 \u001b[0mtrain_set\u001b[0m\u001b[1;33m.\u001b[0m\u001b[0mconstruct\u001b[0m\u001b[1;33m(\u001b[0m\u001b[1;33m)\u001b[0m\u001b[1;33m.\u001b[0m\u001b[0mhandle\u001b[0m\u001b[1;33m,\u001b[0m\u001b[1;33m\u001b[0m\u001b[1;33m\u001b[0m\u001b[0m\n\u001b[0m\u001b[0;32m   1715\u001b[0m                 \u001b[0mc_str\u001b[0m\u001b[1;33m(\u001b[0m\u001b[0mparams_str\u001b[0m\u001b[1;33m)\u001b[0m\u001b[1;33m,\u001b[0m\u001b[1;33m\u001b[0m\u001b[1;33m\u001b[0m\u001b[0m\n\u001b[0;32m   1716\u001b[0m                 ctypes.byref(self.handle)))\n",
      "\u001b[1;32mc:\\users\\alexandre\\appdata\\local\\programs\\python\\python38\\lib\\site-packages\\lightgbm\\basic.py\u001b[0m in \u001b[0;36mconstruct\u001b[1;34m(self)\u001b[0m\n\u001b[0;32m   1079\u001b[0m             \u001b[1;32melse\u001b[0m\u001b[1;33m:\u001b[0m\u001b[1;33m\u001b[0m\u001b[1;33m\u001b[0m\u001b[0m\n\u001b[0;32m   1080\u001b[0m                 \u001b[1;31m# create train\u001b[0m\u001b[1;33m\u001b[0m\u001b[1;33m\u001b[0m\u001b[1;33m\u001b[0m\u001b[0m\n\u001b[1;32m-> 1081\u001b[1;33m                 self._lazy_init(self.data, label=self.label,\n\u001b[0m\u001b[0;32m   1082\u001b[0m                                 \u001b[0mweight\u001b[0m\u001b[1;33m=\u001b[0m\u001b[0mself\u001b[0m\u001b[1;33m.\u001b[0m\u001b[0mweight\u001b[0m\u001b[1;33m,\u001b[0m \u001b[0mgroup\u001b[0m\u001b[1;33m=\u001b[0m\u001b[0mself\u001b[0m\u001b[1;33m.\u001b[0m\u001b[0mgroup\u001b[0m\u001b[1;33m,\u001b[0m\u001b[1;33m\u001b[0m\u001b[1;33m\u001b[0m\u001b[0m\n\u001b[0;32m   1083\u001b[0m                                 \u001b[0minit_score\u001b[0m\u001b[1;33m=\u001b[0m\u001b[0mself\u001b[0m\u001b[1;33m.\u001b[0m\u001b[0minit_score\u001b[0m\u001b[1;33m,\u001b[0m \u001b[0mpredictor\u001b[0m\u001b[1;33m=\u001b[0m\u001b[0mself\u001b[0m\u001b[1;33m.\u001b[0m\u001b[0m_predictor\u001b[0m\u001b[1;33m,\u001b[0m\u001b[1;33m\u001b[0m\u001b[1;33m\u001b[0m\u001b[0m\n",
      "\u001b[1;32mc:\\users\\alexandre\\appdata\\local\\programs\\python\\python38\\lib\\site-packages\\lightgbm\\basic.py\u001b[0m in \u001b[0;36m_lazy_init\u001b[1;34m(self, data, label, reference, weight, group, init_score, predictor, silent, feature_name, categorical_feature, params)\u001b[0m\n\u001b[0;32m    913\u001b[0m             \u001b[1;32mraise\u001b[0m \u001b[0mTypeError\u001b[0m\u001b[1;33m(\u001b[0m\u001b[1;34m'Wrong predictor type {}'\u001b[0m\u001b[1;33m.\u001b[0m\u001b[0mformat\u001b[0m\u001b[1;33m(\u001b[0m\u001b[0mtype\u001b[0m\u001b[1;33m(\u001b[0m\u001b[0mpredictor\u001b[0m\u001b[1;33m)\u001b[0m\u001b[1;33m.\u001b[0m\u001b[0m__name__\u001b[0m\u001b[1;33m)\u001b[0m\u001b[1;33m)\u001b[0m\u001b[1;33m\u001b[0m\u001b[1;33m\u001b[0m\u001b[0m\n\u001b[0;32m    914\u001b[0m         \u001b[1;31m# set feature names\u001b[0m\u001b[1;33m\u001b[0m\u001b[1;33m\u001b[0m\u001b[1;33m\u001b[0m\u001b[0m\n\u001b[1;32m--> 915\u001b[1;33m         \u001b[1;32mreturn\u001b[0m \u001b[0mself\u001b[0m\u001b[1;33m.\u001b[0m\u001b[0mset_feature_name\u001b[0m\u001b[1;33m(\u001b[0m\u001b[0mfeature_name\u001b[0m\u001b[1;33m)\u001b[0m\u001b[1;33m\u001b[0m\u001b[1;33m\u001b[0m\u001b[0m\n\u001b[0m\u001b[0;32m    916\u001b[0m \u001b[1;33m\u001b[0m\u001b[0m\n\u001b[0;32m    917\u001b[0m     \u001b[1;32mdef\u001b[0m \u001b[0m__init_from_np2d\u001b[0m\u001b[1;33m(\u001b[0m\u001b[0mself\u001b[0m\u001b[1;33m,\u001b[0m \u001b[0mmat\u001b[0m\u001b[1;33m,\u001b[0m \u001b[0mparams_str\u001b[0m\u001b[1;33m,\u001b[0m \u001b[0mref_dataset\u001b[0m\u001b[1;33m)\u001b[0m\u001b[1;33m:\u001b[0m\u001b[1;33m\u001b[0m\u001b[1;33m\u001b[0m\u001b[0m\n",
      "\u001b[1;32mc:\\users\\alexandre\\appdata\\local\\programs\\python\\python38\\lib\\site-packages\\lightgbm\\basic.py\u001b[0m in \u001b[0;36mset_feature_name\u001b[1;34m(self, feature_name)\u001b[0m\n\u001b[0;32m   1363\u001b[0m                                  .format(len(feature_name), self.num_feature()))\n\u001b[0;32m   1364\u001b[0m             \u001b[0mc_feature_name\u001b[0m \u001b[1;33m=\u001b[0m \u001b[1;33m[\u001b[0m\u001b[0mc_str\u001b[0m\u001b[1;33m(\u001b[0m\u001b[0mname\u001b[0m\u001b[1;33m)\u001b[0m \u001b[1;32mfor\u001b[0m \u001b[0mname\u001b[0m \u001b[1;32min\u001b[0m \u001b[0mfeature_name\u001b[0m\u001b[1;33m]\u001b[0m\u001b[1;33m\u001b[0m\u001b[1;33m\u001b[0m\u001b[0m\n\u001b[1;32m-> 1365\u001b[1;33m             _safe_call(_LIB.LGBM_DatasetSetFeatureNames(\n\u001b[0m\u001b[0;32m   1366\u001b[0m                 \u001b[0mself\u001b[0m\u001b[1;33m.\u001b[0m\u001b[0mhandle\u001b[0m\u001b[1;33m,\u001b[0m\u001b[1;33m\u001b[0m\u001b[1;33m\u001b[0m\u001b[0m\n\u001b[0;32m   1367\u001b[0m                 \u001b[0mc_array\u001b[0m\u001b[1;33m(\u001b[0m\u001b[0mctypes\u001b[0m\u001b[1;33m.\u001b[0m\u001b[0mc_char_p\u001b[0m\u001b[1;33m,\u001b[0m \u001b[0mc_feature_name\u001b[0m\u001b[1;33m)\u001b[0m\u001b[1;33m,\u001b[0m\u001b[1;33m\u001b[0m\u001b[1;33m\u001b[0m\u001b[0m\n",
      "\u001b[1;32mc:\\users\\alexandre\\appdata\\local\\programs\\python\\python38\\lib\\site-packages\\lightgbm\\basic.py\u001b[0m in \u001b[0;36m_safe_call\u001b[1;34m(ret)\u001b[0m\n\u001b[0;32m     43\u001b[0m     \"\"\"\n\u001b[0;32m     44\u001b[0m     \u001b[1;32mif\u001b[0m \u001b[0mret\u001b[0m \u001b[1;33m!=\u001b[0m \u001b[1;36m0\u001b[0m\u001b[1;33m:\u001b[0m\u001b[1;33m\u001b[0m\u001b[1;33m\u001b[0m\u001b[0m\n\u001b[1;32m---> 45\u001b[1;33m         \u001b[1;32mraise\u001b[0m \u001b[0mLightGBMError\u001b[0m\u001b[1;33m(\u001b[0m\u001b[0mdecode_string\u001b[0m\u001b[1;33m(\u001b[0m\u001b[0m_LIB\u001b[0m\u001b[1;33m.\u001b[0m\u001b[0mLGBM_GetLastError\u001b[0m\u001b[1;33m(\u001b[0m\u001b[1;33m)\u001b[0m\u001b[1;33m)\u001b[0m\u001b[1;33m)\u001b[0m\u001b[1;33m\u001b[0m\u001b[1;33m\u001b[0m\u001b[0m\n\u001b[0m\u001b[0;32m     46\u001b[0m \u001b[1;33m\u001b[0m\u001b[0m\n\u001b[0;32m     47\u001b[0m \u001b[1;33m\u001b[0m\u001b[0m\n",
      "\u001b[1;31mLightGBMError\u001b[0m: Do not support non-ASCII characters in feature name."
     ]
    }
   ],
   "source": [
    "lgbm.fit(X_train, y_train)"
   ]
  },
  {
   "cell_type": "markdown",
   "metadata": {},
   "source": [
    "#### Precisamos remover a acentuação para usar o LightGBM"
   ]
  },
  {
   "cell_type": "code",
   "execution_count": 37,
   "metadata": {},
   "outputs": [
    {
     "data": {
      "text/html": [
       "<div>\n",
       "<style scoped>\n",
       "    .dataframe tbody tr th:only-of-type {\n",
       "        vertical-align: middle;\n",
       "    }\n",
       "\n",
       "    .dataframe tbody tr th {\n",
       "        vertical-align: top;\n",
       "    }\n",
       "\n",
       "    .dataframe thead th {\n",
       "        text-align: right;\n",
       "    }\n",
       "</style>\n",
       "<table border=\"1\" class=\"dataframe\">\n",
       "  <thead>\n",
       "    <tr style=\"text-align: right;\">\n",
       "      <th></th>\n",
       "      <th>link</th>\n",
       "      <th>titulo</th>\n",
       "      <th>citacoes</th>\n",
       "      <th>ano</th>\n",
       "      <th>versao</th>\n",
       "      <th>busca_executada</th>\n",
       "      <th>y</th>\n",
       "      <th>CITACAO</th>\n",
       "      <th>DOC</th>\n",
       "      <th>HTML</th>\n",
       "      <th>...</th>\n",
       "      <th>água</th>\n",
       "      <th>índices</th>\n",
       "      <th>índices bursátiles</th>\n",
       "      <th>óptima</th>\n",
       "      <th>óptima de</th>\n",
       "      <th>óptimo</th>\n",
       "      <th>óptimo de</th>\n",
       "      <th>ótima</th>\n",
       "      <th>ótima de</th>\n",
       "      <th>ótima de sistemas</th>\n",
       "    </tr>\n",
       "  </thead>\n",
       "  <tbody>\n",
       "    <tr>\n",
       "      <th>0</th>\n",
       "      <td>https://www.academia.edu/download/55091016/alg...</td>\n",
       "      <td>Introducción a los algoritmos genéticos y la p...</td>\n",
       "      <td>75</td>\n",
       "      <td>2010</td>\n",
       "      <td>3</td>\n",
       "      <td>algoritmos+geneticos</td>\n",
       "      <td>1</td>\n",
       "      <td>0.0</td>\n",
       "      <td>0.0</td>\n",
       "      <td>0.0</td>\n",
       "      <td>...</td>\n",
       "      <td>0.0</td>\n",
       "      <td>0.0</td>\n",
       "      <td>0.0</td>\n",
       "      <td>0.0</td>\n",
       "      <td>0.0</td>\n",
       "      <td>0.0</td>\n",
       "      <td>0.0</td>\n",
       "      <td>0.0</td>\n",
       "      <td>0.0</td>\n",
       "      <td>0.0</td>\n",
       "    </tr>\n",
       "  </tbody>\n",
       "</table>\n",
       "<p>1 rows × 984 columns</p>\n",
       "</div>"
      ],
      "text/plain": [
       "                                                link  \\\n",
       "0  https://www.academia.edu/download/55091016/alg...   \n",
       "\n",
       "                                              titulo  citacoes   ano  versao  \\\n",
       "0  Introducción a los algoritmos genéticos y la p...        75  2010       3   \n",
       "\n",
       "        busca_executada  y  CITACAO  DOC  HTML  ...  água  índices  \\\n",
       "0  algoritmos+geneticos  1      0.0  0.0   0.0  ...   0.0      0.0   \n",
       "\n",
       "   índices bursátiles  óptima  óptima de  óptimo  óptimo de  ótima  ótima de  \\\n",
       "0                 0.0     0.0        0.0     0.0        0.0    0.0       0.0   \n",
       "\n",
       "   ótima de sistemas  \n",
       "0                0.0  \n",
       "\n",
       "[1 rows x 984 columns]"
      ]
     },
     "execution_count": 37,
     "metadata": {},
     "output_type": "execute_result"
    }
   ],
   "source": [
    "df_lgbm = df_limpo.copy()\n",
    "df_lgbm.head(1)"
   ]
  },
  {
   "cell_type": "code",
   "execution_count": 38,
   "metadata": {},
   "outputs": [
    {
     "data": {
      "text/plain": [
       "Index(['link', 'titulo', 'citacoes', 'ano', 'versao', 'busca_executada', 'y',\n",
       "       'CITACAO', 'DOC', 'HTML',\n",
       "       ...\n",
       "       'agua', 'indices', 'indices bursatiles', 'optima', 'optima de',\n",
       "       'optimo', 'optimo de', 'otima', 'otima de', 'otima de sistemas'],\n",
       "      dtype='object', length=984)"
      ]
     },
     "execution_count": 38,
     "metadata": {},
     "output_type": "execute_result"
    }
   ],
   "source": [
    "import unidecode\n",
    "df_lgbm.columns = [unidecode.unidecode(x) for x in df_lgbm.columns]\n",
    "df_lgbm.columns"
   ]
  },
  {
   "cell_type": "code",
   "execution_count": 39,
   "metadata": {
    "scrolled": true
   },
   "outputs": [
    {
     "data": {
      "text/html": [
       "<div>\n",
       "<style scoped>\n",
       "    .dataframe tbody tr th:only-of-type {\n",
       "        vertical-align: middle;\n",
       "    }\n",
       "\n",
       "    .dataframe tbody tr th {\n",
       "        vertical-align: top;\n",
       "    }\n",
       "\n",
       "    .dataframe thead th {\n",
       "        text-align: right;\n",
       "    }\n",
       "</style>\n",
       "<table border=\"1\" class=\"dataframe\">\n",
       "  <thead>\n",
       "    <tr style=\"text-align: right;\">\n",
       "      <th></th>\n",
       "      <th>link</th>\n",
       "      <th>titulo</th>\n",
       "      <th>citacoes</th>\n",
       "      <th>ano</th>\n",
       "      <th>versao</th>\n",
       "      <th>busca_executada</th>\n",
       "      <th>y</th>\n",
       "      <th>CITACAO</th>\n",
       "      <th>DOC</th>\n",
       "      <th>HTML</th>\n",
       "      <th>...</th>\n",
       "      <th>agua</th>\n",
       "      <th>indices</th>\n",
       "      <th>indices bursatiles</th>\n",
       "      <th>optima</th>\n",
       "      <th>optima de</th>\n",
       "      <th>optimo</th>\n",
       "      <th>optimo de</th>\n",
       "      <th>otima</th>\n",
       "      <th>otima de</th>\n",
       "      <th>otima de sistemas</th>\n",
       "    </tr>\n",
       "  </thead>\n",
       "  <tbody>\n",
       "    <tr>\n",
       "      <th>0</th>\n",
       "      <td>https://www.academia.edu/download/55091016/alg...</td>\n",
       "      <td>Introducción a los algoritmos genéticos y la p...</td>\n",
       "      <td>75</td>\n",
       "      <td>2010</td>\n",
       "      <td>3</td>\n",
       "      <td>algoritmos+geneticos</td>\n",
       "      <td>1</td>\n",
       "      <td>0.0</td>\n",
       "      <td>0.0</td>\n",
       "      <td>0.0</td>\n",
       "      <td>...</td>\n",
       "      <td>0.0</td>\n",
       "      <td>0.0</td>\n",
       "      <td>0.0</td>\n",
       "      <td>0.0</td>\n",
       "      <td>0.0</td>\n",
       "      <td>0.0</td>\n",
       "      <td>0.0</td>\n",
       "      <td>0.0</td>\n",
       "      <td>0.0</td>\n",
       "      <td>0.0</td>\n",
       "    </tr>\n",
       "  </tbody>\n",
       "</table>\n",
       "<p>1 rows × 984 columns</p>\n",
       "</div>"
      ],
      "text/plain": [
       "                                                link  \\\n",
       "0  https://www.academia.edu/download/55091016/alg...   \n",
       "\n",
       "                                              titulo  citacoes   ano  versao  \\\n",
       "0  Introducción a los algoritmos genéticos y la p...        75  2010       3   \n",
       "\n",
       "        busca_executada  y  CITACAO  DOC  HTML  ...  agua  indices  \\\n",
       "0  algoritmos+geneticos  1      0.0  0.0   0.0  ...   0.0      0.0   \n",
       "\n",
       "   indices bursatiles  optima  optima de  optimo  optimo de  otima  otima de  \\\n",
       "0                 0.0     0.0        0.0     0.0        0.0    0.0       0.0   \n",
       "\n",
       "   otima de sistemas  \n",
       "0                0.0  \n",
       "\n",
       "[1 rows x 984 columns]"
      ]
     },
     "execution_count": 39,
     "metadata": {},
     "output_type": "execute_result"
    }
   ],
   "source": [
    "df_lgbm.head(1)"
   ]
  },
  {
   "cell_type": "code",
   "execution_count": 40,
   "metadata": {},
   "outputs": [],
   "source": [
    "y_lgbm = df_lgbm.y\n",
    "X_lgbm = df_lgbm.drop(['y', 'titulo', 'link', 'busca_executada'], axis=1)"
   ]
  },
  {
   "cell_type": "code",
   "execution_count": 41,
   "metadata": {},
   "outputs": [
    {
     "data": {
      "text/plain": [
       "LGBMClassifier(boosting_type='gbdt', class_weight='balanced',\n",
       "               colsample_bytree=1.0, importance_type='split', learning_rate=0.1,\n",
       "               max_depth=-1, min_child_samples=20, min_child_weight=0.001,\n",
       "               min_split_gain=0.0, n_estimators=100, n_jobs=2, num_leaves=31,\n",
       "               objective=None, random_state=0, reg_alpha=0.0, reg_lambda=0.0,\n",
       "               silent=True, subsample=1.0, subsample_for_bin=200000,\n",
       "               subsample_freq=0)"
      ]
     },
     "execution_count": 41,
     "metadata": {},
     "output_type": "execute_result"
    }
   ],
   "source": [
    "X_train_lgbm, X_test_lgbm, y_train_lgbm, y_test_lgbm = train_test_split(X_lgbm, y_lgbm,\n",
    "                                                                                        test_size=0.2, random_state=0)\n",
    "lgbm.fit(X_train_lgbm, y_train_lgbm)"
   ]
  },
  {
   "cell_type": "code",
   "execution_count": 42,
   "metadata": {},
   "outputs": [
    {
     "data": {
      "text/plain": [
       "array([5.12640212e-04, 1.32576451e-01, 9.97637509e-01, 7.71439875e-04,\n",
       "       8.77785869e-01, 5.29382114e-03, 8.84935619e-02, 9.96012198e-01,\n",
       "       4.51527511e-04, 9.92612126e-01, 3.12628500e-02, 1.64777105e-02,\n",
       "       2.45783915e-02, 8.59009466e-01, 9.21112294e-01, 2.05347337e-03,\n",
       "       9.99866283e-01, 5.68825194e-03, 2.37119494e-01, 1.26041123e-03,\n",
       "       3.32374141e-04, 1.90441237e-01, 8.74360552e-04, 6.12327781e-01,\n",
       "       1.26840089e-03, 9.97734798e-01, 5.04216923e-03, 2.91750144e-01,\n",
       "       7.95529018e-01, 3.72548323e-03, 1.95949574e-03, 9.95660698e-01,\n",
       "       9.31416625e-01, 9.98929390e-01, 2.45514451e-03, 2.28660600e-04,\n",
       "       1.78435606e-03, 1.10250377e-03, 4.94902584e-03, 6.48327772e-02,\n",
       "       9.35927870e-02, 9.99770117e-01, 8.21775516e-01, 5.82630563e-01,\n",
       "       5.61888720e-01, 8.49683865e-04, 8.85941149e-01, 7.70418896e-01,\n",
       "       2.91971797e-03, 9.99789150e-01, 9.79604702e-01, 5.39385256e-04,\n",
       "       9.99606679e-01, 1.74236865e-03, 9.04460601e-01, 1.38389052e-01,\n",
       "       1.31004095e-04, 6.23901247e-01, 4.92111651e-03, 3.38188700e-03,\n",
       "       7.59101169e-04, 9.90174418e-01, 8.76116687e-02, 9.83213424e-01,\n",
       "       2.54850122e-03, 2.25391907e-01, 8.36639484e-04, 1.64315216e-03,\n",
       "       4.53692179e-03, 7.11330744e-01, 3.92255670e-03, 3.59077558e-02,\n",
       "       9.04947814e-05, 5.23036960e-01, 6.45366293e-03, 1.84305879e-01,\n",
       "       9.96940924e-01, 9.77054132e-01, 9.96279479e-01, 3.11497025e-01])"
      ]
     },
     "execution_count": 42,
     "metadata": {},
     "output_type": "execute_result"
    }
   ],
   "source": [
    "predict = lgbm.predict_proba(X_test_lgbm)[:, 1]\n",
    "predict"
   ]
  },
  {
   "cell_type": "code",
   "execution_count": 43,
   "metadata": {},
   "outputs": [
    {
     "data": {
      "text/plain": [
       "0.9333791208791208"
      ]
     },
     "execution_count": 43,
     "metadata": {},
     "output_type": "execute_result"
    }
   ],
   "source": [
    "auc_lgbm = roc_auc_score(y_test_lgbm, predict)\n",
    "auc_lgbm"
   ]
  },
  {
   "cell_type": "code",
   "execution_count": 44,
   "metadata": {},
   "outputs": [
    {
     "data": {
      "text/plain": [
       "0.9058952339340935"
      ]
     },
     "execution_count": 44,
     "metadata": {},
     "output_type": "execute_result"
    }
   ],
   "source": [
    "ap = average_precision_score(y_test_lgbm, predict)\n",
    "ap"
   ]
  },
  {
   "cell_type": "markdown",
   "metadata": {},
   "source": [
    "#### Otimizando os parâmetros do LightGBM"
   ]
  },
  {
   "cell_type": "code",
   "execution_count": 48,
   "metadata": {},
   "outputs": [],
   "source": [
    "##Função de minimização usada para otimizar os parâmetros\n",
    "from skopt import forest_minimize"
   ]
  },
  {
   "cell_type": "code",
   "execution_count": 50,
   "metadata": {},
   "outputs": [
    {
     "name": "stdout",
     "output_type": "stream",
     "text": [
      "Iteration No: 1 started. Evaluating function at random point.\n",
      "0.9203296703296703\n",
      "Iteration No: 1 ended. Evaluation done at random point.\n",
      "Time taken: 1.2500\n",
      "Function value obtained: -0.8993\n",
      "Current minimum: -0.8993\n",
      "Iteration No: 2 started. Evaluating function at random point.\n",
      "0.9223901098901098\n",
      "Iteration No: 2 ended. Evaluation done at random point.\n",
      "Time taken: 0.3320\n",
      "Function value obtained: -0.8925\n",
      "Current minimum: -0.8993\n",
      "Iteration No: 3 started. Evaluating function at random point.\n",
      "0.9292582417582418\n",
      "Iteration No: 3 ended. Evaluation done at random point.\n",
      "Time taken: 0.4100\n",
      "Function value obtained: -0.9080\n",
      "Current minimum: -0.9080\n",
      "Iteration No: 4 started. Evaluating function at random point.\n",
      "0.9375\n",
      "Iteration No: 4 ended. Evaluation done at random point.\n",
      "Time taken: 2.2920\n",
      "Function value obtained: -0.9104\n",
      "Current minimum: -0.9104\n",
      "Iteration No: 5 started. Evaluating function at random point.\n",
      "0.9539835164835165\n",
      "Iteration No: 5 ended. Evaluation done at random point.\n",
      "Time taken: 0.5800\n",
      "Function value obtained: -0.9419\n",
      "Current minimum: -0.9419\n",
      "Iteration No: 6 started. Evaluating function at random point.\n",
      "0.8719093406593406\n",
      "Iteration No: 6 ended. Evaluation done at random point.\n",
      "Time taken: 0.2900\n",
      "Function value obtained: -0.7066\n",
      "Current minimum: -0.9419\n",
      "Iteration No: 7 started. Evaluating function at random point.\n",
      "0.9388736263736264\n",
      "Iteration No: 7 ended. Evaluation done at random point.\n",
      "Time taken: 1.2400\n",
      "Function value obtained: -0.9154\n",
      "Current minimum: -0.9419\n",
      "Iteration No: 8 started. Evaluating function at random point.\n",
      "0.9168956043956044\n",
      "Iteration No: 8 ended. Evaluation done at random point.\n",
      "Time taken: 1.6300\n",
      "Function value obtained: -0.8944\n",
      "Current minimum: -0.9419\n",
      "Iteration No: 9 started. Evaluating function at random point.\n",
      "0.9539835164835164\n",
      "Iteration No: 9 ended. Evaluation done at random point.\n",
      "Time taken: 0.2100\n",
      "Function value obtained: -0.9354\n",
      "Current minimum: -0.9419\n",
      "Iteration No: 10 started. Evaluating function at random point.\n",
      "0.9237637362637362\n",
      "Iteration No: 10 ended. Evaluation done at random point.\n",
      "Time taken: 0.7000\n",
      "Function value obtained: -0.9016\n",
      "Current minimum: -0.9419\n",
      "Iteration No: 11 started. Evaluating function at random point.\n",
      "0.9553571428571429\n",
      "Iteration No: 11 ended. Evaluation done at random point.\n",
      "Time taken: 0.6700\n",
      "Function value obtained: -0.9401\n",
      "Current minimum: -0.9419\n",
      "Iteration No: 12 started. Evaluating function at random point.\n",
      "0.9251373626373626\n",
      "Iteration No: 12 ended. Evaluation done at random point.\n",
      "Time taken: 0.7300\n",
      "Function value obtained: -0.8886\n",
      "Current minimum: -0.9419\n",
      "Iteration No: 13 started. Evaluating function at random point.\n",
      "0.9388736263736263\n",
      "Iteration No: 13 ended. Evaluation done at random point.\n",
      "Time taken: 0.5400\n",
      "Function value obtained: -0.9167\n",
      "Current minimum: -0.9419\n",
      "Iteration No: 14 started. Evaluating function at random point.\n",
      "0.9423076923076923\n",
      "Iteration No: 14 ended. Evaluation done at random point.\n",
      "Time taken: 1.0140\n",
      "Function value obtained: -0.9292\n",
      "Current minimum: -0.9419\n",
      "Iteration No: 15 started. Evaluating function at random point.\n",
      "0.9203296703296704\n",
      "Iteration No: 15 ended. Evaluation done at random point.\n",
      "Time taken: 0.2700\n",
      "Function value obtained: -0.8709\n",
      "Current minimum: -0.9419\n",
      "Iteration No: 16 started. Evaluating function at random point.\n",
      "0.9388736263736264\n",
      "Iteration No: 16 ended. Evaluation done at random point.\n",
      "Time taken: 0.5100\n",
      "Function value obtained: -0.9238\n",
      "Current minimum: -0.9419\n",
      "Iteration No: 17 started. Evaluating function at random point.\n",
      "0.945054945054945\n",
      "Iteration No: 17 ended. Evaluation done at random point.\n",
      "Time taken: 0.3300\n",
      "Function value obtained: -0.9234\n",
      "Current minimum: -0.9419\n",
      "Iteration No: 18 started. Evaluating function at random point.\n",
      "0.9429945054945055\n",
      "Iteration No: 18 ended. Evaluation done at random point.\n",
      "Time taken: 0.3300\n",
      "Function value obtained: -0.9248\n",
      "Current minimum: -0.9419\n",
      "Iteration No: 19 started. Evaluating function at random point.\n",
      "0.9313186813186813\n",
      "Iteration No: 19 ended. Evaluation done at random point.\n",
      "Time taken: 1.1220\n",
      "Function value obtained: -0.9146\n",
      "Current minimum: -0.9419\n",
      "Iteration No: 20 started. Evaluating function at random point.\n",
      "0.9368131868131867\n",
      "Iteration No: 20 ended. Evaluation done at random point.\n",
      "Time taken: 1.5900\n",
      "Function value obtained: -0.9125\n",
      "Current minimum: -0.9419\n",
      "Iteration No: 21 started. Searching for the next optimal point.\n",
      "0.9423076923076923\n",
      "Iteration No: 21 ended. Search finished for the next optimal point.\n",
      "Time taken: 1.6200\n",
      "Function value obtained: -0.9118\n",
      "Current minimum: -0.9419\n",
      "Iteration No: 22 started. Searching for the next optimal point.\n",
      "0.9581043956043955\n",
      "Iteration No: 22 ended. Search finished for the next optimal point.\n",
      "Time taken: 1.3800\n",
      "Function value obtained: -0.9426\n",
      "Current minimum: -0.9426\n",
      "Iteration No: 23 started. Searching for the next optimal point.\n",
      "0.9340659340659341\n",
      "Iteration No: 23 ended. Search finished for the next optimal point.\n",
      "Time taken: 1.4860\n",
      "Function value obtained: -0.8832\n",
      "Current minimum: -0.9426\n",
      "Iteration No: 24 started. Searching for the next optimal point.\n",
      "0.9567307692307693\n",
      "Iteration No: 24 ended. Search finished for the next optimal point.\n",
      "Time taken: 1.6400\n",
      "Function value obtained: -0.9360\n",
      "Current minimum: -0.9426\n",
      "Iteration No: 25 started. Searching for the next optimal point.\n",
      "0.9402472527472527\n",
      "Iteration No: 25 ended. Search finished for the next optimal point.\n",
      "Time taken: 1.7500\n",
      "Function value obtained: -0.9137\n",
      "Current minimum: -0.9426\n",
      "Iteration No: 26 started. Searching for the next optimal point.\n",
      "0.9429945054945055\n",
      "Iteration No: 26 ended. Search finished for the next optimal point.\n",
      "Time taken: 2.0000\n",
      "Function value obtained: -0.9237\n",
      "Current minimum: -0.9426\n",
      "Iteration No: 27 started. Searching for the next optimal point.\n",
      "0.9035027472527473\n",
      "Iteration No: 27 ended. Search finished for the next optimal point.\n",
      "Time taken: 1.6500\n",
      "Function value obtained: -0.8325\n",
      "Current minimum: -0.9426\n",
      "Iteration No: 28 started. Searching for the next optimal point.\n",
      "0.9512362637362637\n",
      "Iteration No: 28 ended. Search finished for the next optimal point.\n",
      "Time taken: 1.2800\n",
      "Function value obtained: -0.9367\n",
      "Current minimum: -0.9426\n",
      "Iteration No: 29 started. Searching for the next optimal point.\n",
      "0.9275412087912088\n",
      "Iteration No: 29 ended. Search finished for the next optimal point.\n",
      "Time taken: 1.0300\n",
      "Function value obtained: -0.8902\n",
      "Current minimum: -0.9426\n",
      "Iteration No: 30 started. Searching for the next optimal point.\n",
      "0.9127747252747254\n",
      "Iteration No: 30 ended. Search finished for the next optimal point.\n",
      "Time taken: 1.2700\n",
      "Function value obtained: -0.8624\n",
      "Current minimum: -0.9426\n",
      "Iteration No: 31 started. Searching for the next optimal point.\n",
      "0.9247939560439561\n",
      "Iteration No: 31 ended. Search finished for the next optimal point.\n",
      "Time taken: 1.7100\n",
      "Function value obtained: -0.8859\n",
      "Current minimum: -0.9426\n",
      "Iteration No: 32 started. Searching for the next optimal point.\n",
      "0.9292582417582417\n",
      "Iteration No: 32 ended. Search finished for the next optimal point.\n",
      "Time taken: 2.4300\n",
      "Function value obtained: -0.9177\n",
      "Current minimum: -0.9426\n",
      "Iteration No: 33 started. Searching for the next optimal point.\n",
      "0.895260989010989\n",
      "Iteration No: 33 ended. Search finished for the next optimal point.\n",
      "Time taken: 3.7940\n",
      "Function value obtained: -0.8592\n",
      "Current minimum: -0.9426\n",
      "Iteration No: 34 started. Searching for the next optimal point.\n",
      "0.9347527472527473\n",
      "Iteration No: 34 ended. Search finished for the next optimal point.\n",
      "Time taken: 1.1000\n",
      "Function value obtained: -0.9080\n",
      "Current minimum: -0.9426\n",
      "Iteration No: 35 started. Searching for the next optimal point.\n",
      "0.9127747252747254\n",
      "Iteration No: 35 ended. Search finished for the next optimal point.\n",
      "Time taken: 0.9000\n",
      "Function value obtained: -0.8686\n",
      "Current minimum: -0.9426\n",
      "Iteration No: 36 started. Searching for the next optimal point.\n",
      "0.9244505494505495\n",
      "Iteration No: 36 ended. Search finished for the next optimal point.\n",
      "Time taken: 0.7700\n",
      "Function value obtained: -0.8885\n",
      "Current minimum: -0.9426\n",
      "Iteration No: 37 started. Searching for the next optimal point.\n",
      "0.9478021978021978\n",
      "Iteration No: 37 ended. Search finished for the next optimal point.\n",
      "Time taken: 0.8300\n",
      "Function value obtained: -0.9202\n",
      "Current minimum: -0.9426\n",
      "Iteration No: 38 started. Searching for the next optimal point.\n"
     ]
    },
    {
     "name": "stdout",
     "output_type": "stream",
     "text": [
      "0.9436813186813187\n",
      "Iteration No: 38 ended. Search finished for the next optimal point.\n",
      "Time taken: 0.7900\n",
      "Function value obtained: -0.9135\n",
      "Current minimum: -0.9426\n",
      "Iteration No: 39 started. Searching for the next optimal point.\n",
      "0.9429945054945055\n",
      "Iteration No: 39 ended. Search finished for the next optimal point.\n",
      "Time taken: 0.6100\n",
      "Function value obtained: -0.9097\n",
      "Current minimum: -0.9426\n",
      "Iteration No: 40 started. Searching for the next optimal point.\n",
      "0.9416208791208791\n",
      "Iteration No: 40 ended. Search finished for the next optimal point.\n",
      "Time taken: 0.5300\n",
      "Function value obtained: -0.9155\n",
      "Current minimum: -0.9426\n",
      "Iteration No: 41 started. Searching for the next optimal point.\n",
      "0.9375\n",
      "Iteration No: 41 ended. Search finished for the next optimal point.\n",
      "Time taken: 0.5300\n",
      "Function value obtained: -0.9077\n",
      "Current minimum: -0.9426\n",
      "Iteration No: 42 started. Searching for the next optimal point.\n",
      "0.9072802197802197\n",
      "Iteration No: 42 ended. Search finished for the next optimal point.\n",
      "Time taken: 0.4800\n",
      "Function value obtained: -0.8825\n",
      "Current minimum: -0.9426\n",
      "Iteration No: 43 started. Searching for the next optimal point.\n",
      "0.9000686813186813\n",
      "Iteration No: 43 ended. Search finished for the next optimal point.\n",
      "Time taken: 0.4500\n",
      "Function value obtained: -0.8481\n",
      "Current minimum: -0.9426\n",
      "Iteration No: 44 started. Searching for the next optimal point.\n",
      "0.9381868131868132\n",
      "Iteration No: 44 ended. Search finished for the next optimal point.\n",
      "Time taken: 0.4800\n",
      "Function value obtained: -0.9091\n",
      "Current minimum: -0.9426\n",
      "Iteration No: 45 started. Searching for the next optimal point.\n",
      "0.9368131868131868\n",
      "Iteration No: 45 ended. Search finished for the next optimal point.\n",
      "Time taken: 0.5600\n",
      "Function value obtained: -0.9083\n",
      "Current minimum: -0.9426\n",
      "Iteration No: 46 started. Searching for the next optimal point.\n",
      "0.9206730769230769\n",
      "Iteration No: 46 ended. Search finished for the next optimal point.\n",
      "Time taken: 0.6300\n",
      "Function value obtained: -0.8853\n",
      "Current minimum: -0.9426\n",
      "Iteration No: 47 started. Searching for the next optimal point.\n",
      "0.9375\n",
      "Iteration No: 47 ended. Search finished for the next optimal point.\n",
      "Time taken: 0.5900\n",
      "Function value obtained: -0.8844\n",
      "Current minimum: -0.9426\n",
      "Iteration No: 48 started. Searching for the next optimal point.\n",
      "0.909684065934066\n",
      "Iteration No: 48 ended. Search finished for the next optimal point.\n",
      "Time taken: 1.7400\n",
      "Function value obtained: -0.8548\n",
      "Current minimum: -0.9426\n",
      "Iteration No: 49 started. Searching for the next optimal point.\n",
      "0.9210164835164836\n",
      "Iteration No: 49 ended. Search finished for the next optimal point.\n",
      "Time taken: 1.9400\n",
      "Function value obtained: -0.8800\n",
      "Current minimum: -0.9426\n",
      "Iteration No: 50 started. Searching for the next optimal point.\n",
      "0.9388736263736264\n",
      "Iteration No: 50 ended. Search finished for the next optimal point.\n",
      "Time taken: 1.1500\n",
      "Function value obtained: -0.9054\n",
      "Current minimum: -0.9426\n"
     ]
    }
   ],
   "source": [
    "def tune_lgbm(params):\n",
    "    lr = params[0] ##learning rate\n",
    "    max_depth = params[1] ##profundidade da árvore\n",
    "    min_child_samples = params[2] ##número mínimo de exemplos em cada nó\n",
    "    subsample = params[3]\n",
    "    colsample_bytree = params[4]\n",
    "    n_estimators = params[5]\n",
    "    \n",
    "    tuned_lgbm = LGBMClassifier(learning_rate=lr, num_leaves=2 ** max_depth, max_depth=max_depth, \n",
    "                         min_child_samples=min_child_samples, subsample=subsample,\n",
    "                         colsample_bytree=colsample_bytree, bagging_freq=1,n_estimators=n_estimators, random_state=0, \n",
    "                         class_weight=\"balanced\", n_jobs=2)\n",
    "    tuned_lgbm.fit(X_train_lgbm, y_train_lgbm)\n",
    "    p = tuned_lgbm.predict_proba(X_test_lgbm)[:, 1]\n",
    "    \n",
    "    print(roc_auc_score(y_test_lgbm, p))\n",
    "    \n",
    "    ## É retornado a negativa da métrica pois usamos uma função de minimização\n",
    "    return -average_precision_score(y_test_lgbm, p)\n",
    "\n",
    "param_values = [(1e-3, 1e-1, 'log-uniform'), ##learning rate\n",
    "               (1, 10), ##max_depth\n",
    "               (1, 20), ##min_child_sample\n",
    "               (0.05, 1.), ##sample\n",
    "               (0.05, 1.), ##colsample_bytree\n",
    "               (100, 1000)] ##n_estimators\n",
    "\n",
    "result = forest_minimize(tune_lgbm, param_values, random_state=160745, n_random_starts=20, n_calls=50, verbose=1)"
   ]
  },
  {
   "cell_type": "markdown",
   "metadata": {},
   "source": [
    "#### Melhores parâmetros encontrados"
   ]
  },
  {
   "cell_type": "code",
   "execution_count": 51,
   "metadata": {},
   "outputs": [
    {
     "data": {
      "text/plain": [
       "[0.05692306574259571, 2, 14, 0.7491505567388204, 0.9530435710977047, 201]"
      ]
     },
     "execution_count": 51,
     "metadata": {},
     "output_type": "execute_result"
    }
   ],
   "source": [
    "result.x"
   ]
  },
  {
   "cell_type": "markdown",
   "metadata": {},
   "source": [
    "#### AUC: 0.9581043956043955\n",
    "#### AP: 0.9426"
   ]
  },
  {
   "cell_type": "markdown",
   "metadata": {},
   "source": [
    "## Logistic Regression"
   ]
  },
  {
   "cell_type": "code",
   "execution_count": 52,
   "metadata": {},
   "outputs": [
    {
     "name": "stderr",
     "output_type": "stream",
     "text": [
      "c:\\users\\alexandre\\appdata\\local\\programs\\python\\python38\\lib\\site-packages\\sklearn\\linear_model\\_logistic.py:938: ConvergenceWarning: lbfgs failed to converge (status=1):\n",
      "STOP: TOTAL NO. of ITERATIONS REACHED LIMIT.\n",
      "\n",
      "Increase the number of iterations (max_iter) or scale the data as shown in:\n",
      "    https://scikit-learn.org/stable/modules/preprocessing.html\n",
      "Please also refer to the documentation for alternative solver options:\n",
      "    https://scikit-learn.org/stable/modules/linear_model.html#logistic-regression\n",
      "  n_iter_i = _check_optimize_result(\n"
     ]
    },
    {
     "data": {
      "text/plain": [
       "LogisticRegression(C=1.0, class_weight=None, dual=False, fit_intercept=True,\n",
       "                   intercept_scaling=1, l1_ratio=None, max_iter=100,\n",
       "                   multi_class='auto', n_jobs=None, penalty='l2',\n",
       "                   random_state=0, solver='lbfgs', tol=0.0001, verbose=0,\n",
       "                   warm_start=False)"
      ]
     },
     "execution_count": 52,
     "metadata": {},
     "output_type": "execute_result"
    }
   ],
   "source": [
    "from sklearn.linear_model import LogisticRegression\n",
    "\n",
    "lr = LogisticRegression(random_state=0)\n",
    "lr.fit(X_train, y_train)"
   ]
  },
  {
   "cell_type": "code",
   "execution_count": 53,
   "metadata": {},
   "outputs": [
    {
     "data": {
      "text/plain": [
       "array([0.25762853, 0.54672799, 0.83338536, 0.07724336, 0.79994359,\n",
       "       0.21628447, 0.17146125, 0.72137697, 0.1115592 , 0.82969607,\n",
       "       0.10124857, 0.12624101, 0.30252594, 0.85649195, 0.17205663,\n",
       "       0.10947238, 0.61920424, 0.15732481, 0.80121529, 0.06962906,\n",
       "       0.08127619, 0.63471869, 0.08330976, 0.73250023, 0.08650765,\n",
       "       0.81416089, 0.2191475 , 0.22003281, 0.65327655, 0.11744174,\n",
       "       0.26138513, 0.76836362, 0.44129447, 0.99302181, 0.07977986,\n",
       "       0.0933418 , 0.05751861, 0.11699123, 0.07044449, 0.41622952,\n",
       "       0.25381445, 0.7987819 , 0.24788106, 0.08929002, 0.38148292,\n",
       "       0.07099911, 0.32830511, 0.44172204, 0.07218968, 0.78220093,\n",
       "       0.68907053, 0.06930212, 0.80044026, 0.26910589, 0.45907731,\n",
       "       0.8258995 , 0.11709013, 0.13221079, 0.11260739, 0.12680119,\n",
       "       0.08911859, 0.69984627, 0.21830086, 0.62545447, 0.08987978,\n",
       "       0.455777  , 0.06754093, 0.33582636, 0.37313821, 0.73503702,\n",
       "       0.1204968 , 0.54435534, 0.0774435 , 0.10760344, 0.22455196,\n",
       "       0.36232569, 0.76999158, 0.62990182, 0.64370128, 0.61894656])"
      ]
     },
     "execution_count": 53,
     "metadata": {},
     "output_type": "execute_result"
    }
   ],
   "source": [
    "p_lr = lr.predict_proba(X_test)[:, 1]\n",
    "p_lr"
   ]
  },
  {
   "cell_type": "code",
   "execution_count": 55,
   "metadata": {},
   "outputs": [
    {
     "name": "stdout",
     "output_type": "stream",
     "text": [
      "AUC: 0.8990384615384616 | Average Precision: 0.7938174206214182\n"
     ]
    }
   ],
   "source": [
    "roc_auc_lr = roc_auc_score(y_test, p_lr)\n",
    "ap_lr = average_precision_score(y_test, p_lr)\n",
    "\n",
    "print(\"AUC: {} | Average Precision: {}\".format(roc_auc_lr, ap_lr))"
   ]
  },
  {
   "cell_type": "code",
   "execution_count": 56,
   "metadata": {},
   "outputs": [],
   "source": [
    "import joblib as jb"
   ]
  },
  {
   "cell_type": "markdown",
   "metadata": {},
   "source": [
    "## Salvando os modelos"
   ]
  },
  {
   "cell_type": "code",
   "execution_count": 57,
   "metadata": {},
   "outputs": [
    {
     "data": {
      "text/plain": [
       "['lgbm.pkl.z']"
      ]
     },
     "execution_count": 57,
     "metadata": {},
     "output_type": "execute_result"
    }
   ],
   "source": [
    "jb.dump(vectorizer, \"vectorizer.pkl.z\")\n",
    "jb.dump(rf, \"random_forest.pkl.z\")\n",
    "jb.dump(lgbm, \"lgbm.pkl.z\")"
   ]
  }
 ],
 "metadata": {
  "kernelspec": {
   "display_name": "Python 3",
   "language": "python",
   "name": "python3"
  },
  "language_info": {
   "codemirror_mode": {
    "name": "ipython",
    "version": 3
   },
   "file_extension": ".py",
   "mimetype": "text/x-python",
   "name": "python",
   "nbconvert_exporter": "python",
   "pygments_lexer": "ipython3",
   "version": "3.8.2"
  }
 },
 "nbformat": 4,
 "nbformat_minor": 4
}
