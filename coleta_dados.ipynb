{
 "cells": [
  {
   "cell_type": "code",
   "execution_count": 1,
   "metadata": {},
   "outputs": [],
   "source": [
    "import pandas as pd\n",
    "import numpy as np\n",
    "import re\n",
    "import time\n",
    "\n",
    "##Bs4 para o parsing\n",
    "import bs4 as bs4\n",
    "import requests as rq\n",
    "import json"
   ]
  },
  {
   "cell_type": "markdown",
   "metadata": {},
   "source": [
    "# Coleta dos dados"
   ]
  },
  {
   "cell_type": "markdown",
   "metadata": {},
   "source": [
    "### Definimos as buscas e a página (url)"
   ]
  },
  {
   "cell_type": "code",
   "execution_count": 2,
   "metadata": {},
   "outputs": [],
   "source": [
    "buscas = [\"algoritmos+geneticos\", \"machine+learning\"]\n",
    "url = \"https://scholar.google.com.br/scholar?start={itens}&q={busca}&hl=pt-BR&as_sdt=0,5\""
   ]
  },
  {
   "cell_type": "markdown",
   "metadata": {},
   "source": [
    "### Cada página do Google Scholar aprensenta 9 itens por página. Na url, o argumento 'start=' refere-se ao item que será mostrado primeiro. Portanto, para buscar em mais de uma página, devemos iterar de 10 em 10."
   ]
  },
  {
   "cell_type": "code",
   "execution_count": 8,
   "metadata": {},
   "outputs": [
    {
     "name": "stdout",
     "output_type": "stream",
     "text": [
      "https://scholar.google.com.br/scholar?start=0&q=algoritmos+geneticos&hl=pt-BR&as_sdt=0,5\n",
      "https://scholar.google.com.br/scholar?start=10&q=algoritmos+geneticos&hl=pt-BR&as_sdt=0,5\n",
      "https://scholar.google.com.br/scholar?start=20&q=algoritmos+geneticos&hl=pt-BR&as_sdt=0,5\n",
      "https://scholar.google.com.br/scholar?start=30&q=algoritmos+geneticos&hl=pt-BR&as_sdt=0,5\n",
      "https://scholar.google.com.br/scholar?start=40&q=algoritmos+geneticos&hl=pt-BR&as_sdt=0,5\n",
      "https://scholar.google.com.br/scholar?start=50&q=algoritmos+geneticos&hl=pt-BR&as_sdt=0,5\n",
      "https://scholar.google.com.br/scholar?start=60&q=algoritmos+geneticos&hl=pt-BR&as_sdt=0,5\n",
      "https://scholar.google.com.br/scholar?start=70&q=algoritmos+geneticos&hl=pt-BR&as_sdt=0,5\n",
      "https://scholar.google.com.br/scholar?start=80&q=algoritmos+geneticos&hl=pt-BR&as_sdt=0,5\n",
      "https://scholar.google.com.br/scholar?start=90&q=algoritmos+geneticos&hl=pt-BR&as_sdt=0,5\n",
      "https://scholar.google.com.br/scholar?start=100&q=algoritmos+geneticos&hl=pt-BR&as_sdt=0,5\n",
      "https://scholar.google.com.br/scholar?start=110&q=algoritmos+geneticos&hl=pt-BR&as_sdt=0,5\n",
      "https://scholar.google.com.br/scholar?start=120&q=algoritmos+geneticos&hl=pt-BR&as_sdt=0,5\n",
      "https://scholar.google.com.br/scholar?start=130&q=algoritmos+geneticos&hl=pt-BR&as_sdt=0,5\n",
      "https://scholar.google.com.br/scholar?start=140&q=algoritmos+geneticos&hl=pt-BR&as_sdt=0,5\n",
      "https://scholar.google.com.br/scholar?start=150&q=algoritmos+geneticos&hl=pt-BR&as_sdt=0,5\n",
      "https://scholar.google.com.br/scholar?start=160&q=algoritmos+geneticos&hl=pt-BR&as_sdt=0,5\n",
      "https://scholar.google.com.br/scholar?start=170&q=algoritmos+geneticos&hl=pt-BR&as_sdt=0,5\n",
      "https://scholar.google.com.br/scholar?start=180&q=algoritmos+geneticos&hl=pt-BR&as_sdt=0,5\n",
      "https://scholar.google.com.br/scholar?start=190&q=algoritmos+geneticos&hl=pt-BR&as_sdt=0,5\n",
      "https://scholar.google.com.br/scholar?start=0&q=machine+learning&hl=pt-BR&as_sdt=0,5\n",
      "https://scholar.google.com.br/scholar?start=10&q=machine+learning&hl=pt-BR&as_sdt=0,5\n",
      "https://scholar.google.com.br/scholar?start=20&q=machine+learning&hl=pt-BR&as_sdt=0,5\n",
      "https://scholar.google.com.br/scholar?start=30&q=machine+learning&hl=pt-BR&as_sdt=0,5\n",
      "https://scholar.google.com.br/scholar?start=40&q=machine+learning&hl=pt-BR&as_sdt=0,5\n",
      "https://scholar.google.com.br/scholar?start=50&q=machine+learning&hl=pt-BR&as_sdt=0,5\n",
      "https://scholar.google.com.br/scholar?start=60&q=machine+learning&hl=pt-BR&as_sdt=0,5\n",
      "https://scholar.google.com.br/scholar?start=70&q=machine+learning&hl=pt-BR&as_sdt=0,5\n",
      "https://scholar.google.com.br/scholar?start=80&q=machine+learning&hl=pt-BR&as_sdt=0,5\n",
      "https://scholar.google.com.br/scholar?start=90&q=machine+learning&hl=pt-BR&as_sdt=0,5\n",
      "https://scholar.google.com.br/scholar?start=100&q=machine+learning&hl=pt-BR&as_sdt=0,5\n",
      "https://scholar.google.com.br/scholar?start=110&q=machine+learning&hl=pt-BR&as_sdt=0,5\n",
      "https://scholar.google.com.br/scholar?start=120&q=machine+learning&hl=pt-BR&as_sdt=0,5\n",
      "https://scholar.google.com.br/scholar?start=130&q=machine+learning&hl=pt-BR&as_sdt=0,5\n",
      "https://scholar.google.com.br/scholar?start=140&q=machine+learning&hl=pt-BR&as_sdt=0,5\n",
      "https://scholar.google.com.br/scholar?start=150&q=machine+learning&hl=pt-BR&as_sdt=0,5\n",
      "https://scholar.google.com.br/scholar?start=160&q=machine+learning&hl=pt-BR&as_sdt=0,5\n",
      "https://scholar.google.com.br/scholar?start=170&q=machine+learning&hl=pt-BR&as_sdt=0,5\n",
      "https://scholar.google.com.br/scholar?start=180&q=machine+learning&hl=pt-BR&as_sdt=0,5\n",
      "https://scholar.google.com.br/scholar?start=190&q=machine+learning&hl=pt-BR&as_sdt=0,5\n"
     ]
    }
   ],
   "source": [
    "for busca in buscas:\n",
    "    # de 0 1 50 de 10 em 10\n",
    "    for itens in range(0, 200, 10):\n",
    "        ## Definindo as urls de busca\n",
    "        urll = url.format(busca=busca, itens=itens)\n",
    "        print(urll)\n",
    "        ## Passamos a url formatada para o request\n",
    "        ## O objeto response terá as informações da página, o código fonte\n",
    "        response = rq.get(urll)\n",
    "        \n",
    "        ## Salvamos os dados brutos em arquivos html\n",
    "        with open(\"./dados_brutos/{}_{}.html\".format(busca, itens), 'w+') as output:\n",
    "            ## Código fonte no formato string\n",
    "            output.write(response.text)\n",
    "        ## Dois segundos entre cada requisição\n",
    "        time.sleep(2)"
   ]
  },
  {
   "cell_type": "markdown",
   "metadata": {},
   "source": [
    "# Processando os dados brutos"
   ]
  },
  {
   "cell_type": "code",
   "execution_count": 42,
   "metadata": {},
   "outputs": [],
   "source": [
    "## Vamos abrir os htmls salvos para processá-los\n",
    "for busca in buscas:\n",
    "        for itens in range(0,200,10):\n",
    "            ## Abre e lê cada página\n",
    "            with open(\"./dados_brutos/{}_{}.html\".format(busca, itens), 'r+') as inp:\n",
    "                page_html = inp.read()\n",
    "\n",
    "                parsed = bs4.BeautifulSoup(page_html)\n",
    "\n",
    "                data = {}\n",
    "\n",
    "                ##Todos os elementos que precisamos estão dentro de uma div com class=\"gs_ri\"\n",
    "                ##Para cada div dessa na página vamos procurar pelos elementos\n",
    "                main_tag = parsed.find_all(\"div\", attrs={\"class\": \"gs_ri\"})\n",
    "                \n",
    "                for e in main_tag:\n",
    "                    ##Link e título\n",
    "                    lista_links = e.h3.findAll('a')\n",
    "                    for i in lista_links:\n",
    "                        link = i['href']\n",
    "                        titulo = i.text\n",
    "                    \n",
    "                    #Número de citações\n",
    "                    lista_citacoes = e.find_all(\"a\", attrs={\"href\":re.compile(r\"cites\")})\n",
    "                    for i in lista_citacoes:\n",
    "                        citacoes = re.findall(r'[0-9]+', i.text)\n",
    "                    \n",
    "                    ##Ano de publicação\n",
    "                    lista_anos = e.find_all(\"div\", attrs={\"class\": \"gs_a\"})\n",
    "                    for i in lista_anos:\n",
    "                        ano = re.findall(r'[0-9]+', i.text)\n",
    "                \n",
    "                    ##Tipo do arquivo\n",
    "                    lista_tipo_arquivo = e.find_all(\"span\", attrs={\"class\": \"gs_ct1\"})\n",
    "                    for i in lista_tipo_arquivo:\n",
    "                        tipo_arquivo = i.text\n",
    "                    \n",
    "                    ##Quantas versões do arquivo\n",
    "                    lista_versoes = e.find_all(\"a\", attrs={\"href\":re.compile(r\"cluster\")})\n",
    "                    for i in lista_versoes:\n",
    "                        versao = re.findall(r'[0-9]+', i.text)\n",
    "                    \n",
    "                    ## vamos salvar os itens em um arquivo json contendo todas as informações\n",
    "                    with open(\"parsed_itens.json\", 'a+') as output:\n",
    "                        ## dicionário que será convertido em json\n",
    "                        data = {\"link\": link, \"titulo\": titulo, \"citacoes\": citacoes,\n",
    "                                \"ano\": ano, \"tipo_arquivo\": tipo_arquivo, \"versao\": versao, \"busca\": busca}\n",
    "                        output.write(\"{}\\n\".format(json.dumps(data)))"
   ]
  },
  {
   "cell_type": "code",
   "execution_count": 43,
   "metadata": {},
   "outputs": [],
   "source": [
    "df = pd.read_json(\"parsed_itens.json\", lines=True)"
   ]
  },
  {
   "cell_type": "code",
   "execution_count": 44,
   "metadata": {
    "scrolled": true
   },
   "outputs": [
    {
     "data": {
      "text/html": [
       "<div>\n",
       "<style scoped>\n",
       "    .dataframe tbody tr th:only-of-type {\n",
       "        vertical-align: middle;\n",
       "    }\n",
       "\n",
       "    .dataframe tbody tr th {\n",
       "        vertical-align: top;\n",
       "    }\n",
       "\n",
       "    .dataframe thead th {\n",
       "        text-align: right;\n",
       "    }\n",
       "</style>\n",
       "<table border=\"1\" class=\"dataframe\">\n",
       "  <thead>\n",
       "    <tr style=\"text-align: right;\">\n",
       "      <th></th>\n",
       "      <th>link</th>\n",
       "      <th>titulo</th>\n",
       "      <th>citacoes</th>\n",
       "      <th>ano</th>\n",
       "      <th>tipo_arquivo</th>\n",
       "      <th>versao</th>\n",
       "      <th>busca</th>\n",
       "    </tr>\n",
       "  </thead>\n",
       "  <tbody>\n",
       "    <tr>\n",
       "      <th>0</th>\n",
       "      <td>https://www.academia.edu/download/55091016/alg...</td>\n",
       "      <td>Introducción a los algoritmos genéticos y la p...</td>\n",
       "      <td>[75]</td>\n",
       "      <td>[2010]</td>\n",
       "      <td>[LIVRO]</td>\n",
       "      <td>[3]</td>\n",
       "      <td>algoritmos+geneticos</td>\n",
       "    </tr>\n",
       "    <tr>\n",
       "      <th>1</th>\n",
       "      <td>https://www.researchgate.net/profile/Pablo_Est...</td>\n",
       "      <td>Optimización mediante algoritmos genéticos</td>\n",
       "      <td>[51]</td>\n",
       "      <td>[1997]</td>\n",
       "      <td>[PDF]</td>\n",
       "      <td>[2]</td>\n",
       "      <td>algoritmos+geneticos</td>\n",
       "    </tr>\n",
       "    <tr>\n",
       "      <th>2</th>\n",
       "      <td>http://it.uc3m.es/jvillena/irc/practicas/06-07...</td>\n",
       "      <td>Algoritmos genéticos</td>\n",
       "      <td>[18]</td>\n",
       "      <td>[2007, 3]</td>\n",
       "      <td>[PDF]</td>\n",
       "      <td>[5]</td>\n",
       "      <td>algoritmos+geneticos</td>\n",
       "    </tr>\n",
       "    <tr>\n",
       "      <th>3</th>\n",
       "      <td>http://cursos.itam.mx/akuri/PUBLICA.CNS/2000/A...</td>\n",
       "      <td>Algoritmos genéticos</td>\n",
       "      <td>[26]</td>\n",
       "      <td>[2002]</td>\n",
       "      <td>[LIVRO]</td>\n",
       "      <td>[2]</td>\n",
       "      <td>algoritmos+geneticos</td>\n",
       "    </tr>\n",
       "    <tr>\n",
       "      <th>4</th>\n",
       "      <td>https://the-geek.org/docs/algen/algen.html</td>\n",
       "      <td>Algoritmos genéticos y computación evolutiva</td>\n",
       "      <td>[29]</td>\n",
       "      <td>[2004]</td>\n",
       "      <td>[HTML]</td>\n",
       "      <td>[2]</td>\n",
       "      <td>algoritmos+geneticos</td>\n",
       "    </tr>\n",
       "  </tbody>\n",
       "</table>\n",
       "</div>"
      ],
      "text/plain": [
       "                                                link  \\\n",
       "0  https://www.academia.edu/download/55091016/alg...   \n",
       "1  https://www.researchgate.net/profile/Pablo_Est...   \n",
       "2  http://it.uc3m.es/jvillena/irc/practicas/06-07...   \n",
       "3  http://cursos.itam.mx/akuri/PUBLICA.CNS/2000/A...   \n",
       "4         https://the-geek.org/docs/algen/algen.html   \n",
       "\n",
       "                                              titulo citacoes        ano  \\\n",
       "0  Introducción a los algoritmos genéticos y la p...     [75]     [2010]   \n",
       "1         Optimización mediante algoritmos genéticos     [51]     [1997]   \n",
       "2                               Algoritmos genéticos     [18]  [2007, 3]   \n",
       "3                               Algoritmos genéticos     [26]     [2002]   \n",
       "4       Algoritmos genéticos y computación evolutiva     [29]     [2004]   \n",
       "\n",
       "  tipo_arquivo versao                 busca  \n",
       "0      [LIVRO]    [3]  algoritmos+geneticos  \n",
       "1        [PDF]    [2]  algoritmos+geneticos  \n",
       "2        [PDF]    [5]  algoritmos+geneticos  \n",
       "3      [LIVRO]    [2]  algoritmos+geneticos  \n",
       "4       [HTML]    [2]  algoritmos+geneticos  "
      ]
     },
     "execution_count": 44,
     "metadata": {},
     "output_type": "execute_result"
    }
   ],
   "source": [
    "df.head()"
   ]
  },
  {
   "cell_type": "code",
   "execution_count": 47,
   "metadata": {},
   "outputs": [
    {
     "data": {
      "text/plain": [
       "0      https://www.academia.edu/download/55091016/alg...\n",
       "1      https://www.researchgate.net/profile/Pablo_Est...\n",
       "2      http://it.uc3m.es/jvillena/irc/practicas/06-07...\n",
       "3      http://cursos.itam.mx/akuri/PUBLICA.CNS/2000/A...\n",
       "4             https://the-geek.org/docs/algen/algen.html\n",
       "                             ...                        \n",
       "395    https://www.nature.com/articles/s41586-018-0337-2\n",
       "396    https://ieeexplore.ieee.org/abstract/document/...\n",
       "397    https://books.google.com.br/books?hl=pt-BR&lr=...\n",
       "398                     https://arxiv.org/abs/1605.07277\n",
       "399    http://papers.nips.cc/paper/2571-using-machine...\n",
       "Name: link, Length: 400, dtype: object"
      ]
     },
     "execution_count": 47,
     "metadata": {},
     "output_type": "execute_result"
    }
   ],
   "source": [
    "df['link']"
   ]
  },
  {
   "cell_type": "markdown",
   "metadata": {},
   "source": [
    "### Necessário converter para string, pois o feather não aceita o formato em questão"
   ]
  },
  {
   "cell_type": "code",
   "execution_count": 31,
   "metadata": {},
   "outputs": [
    {
     "data": {
      "text/plain": [
       "link            object\n",
       "titulo          object\n",
       "citacoes        object\n",
       "ano             object\n",
       "tipo_arquivo    object\n",
       "versao          object\n",
       "busca           object\n",
       "dtype: object"
      ]
     },
     "execution_count": 31,
     "metadata": {},
     "output_type": "execute_result"
    }
   ],
   "source": [
    "df.dtypes"
   ]
  },
  {
   "cell_type": "code",
   "execution_count": 46,
   "metadata": {},
   "outputs": [],
   "source": [
    "df['link'] = df['link'].astype(str)\n",
    "df['titulo'] = df['titulo'].astype(str)\n",
    "df['citacoes'] = df['citacoes'].astype(str)\n",
    "df['ano'] = df['ano'].astype(str)\n",
    "df['tipo_arquivo'] = df['tipo_arquivo'].astype(str)\n",
    "df['versao'] = df['versao'].astype(str)\n",
    "df['busca'] = df['busca'].astype(str)"
   ]
  },
  {
   "cell_type": "code",
   "execution_count": 37,
   "metadata": {},
   "outputs": [
    {
     "data": {
      "text/plain": [
       "(400, 7)"
      ]
     },
     "execution_count": 37,
     "metadata": {},
     "output_type": "execute_result"
    }
   ],
   "source": [
    "df.shape"
   ]
  },
  {
   "cell_type": "code",
   "execution_count": 18,
   "metadata": {},
   "outputs": [
    {
     "data": {
      "text/plain": [
       "link            0\n",
       "titulo          0\n",
       "citacoes        0\n",
       "ano             0\n",
       "tipo_arquivo    0\n",
       "versao          0\n",
       "busca           0\n",
       "dtype: int64"
      ]
     },
     "execution_count": 18,
     "metadata": {},
     "output_type": "execute_result"
    }
   ],
   "source": [
    "df.isnull().sum()"
   ]
  },
  {
   "cell_type": "markdown",
   "metadata": {},
   "source": [
    "### Exportando o DataFrame em formato feather"
   ]
  },
  {
   "cell_type": "code",
   "execution_count": 36,
   "metadata": {},
   "outputs": [],
   "source": [
    "df.to_feather(\"raw_data.feather\")"
   ]
  },
  {
   "cell_type": "markdown",
   "metadata": {},
   "source": [
    "### O labeling será feito manualmente, portano exportamos o DataFrame para um csv"
   ]
  },
  {
   "cell_type": "code",
   "execution_count": 48,
   "metadata": {},
   "outputs": [],
   "source": [
    "df.to_csv(\"raw_data_sem_labels.csv\")"
   ]
  }
 ],
 "metadata": {
  "kernelspec": {
   "display_name": "Python 3",
   "language": "python",
   "name": "python3"
  },
  "language_info": {
   "codemirror_mode": {
    "name": "ipython",
    "version": 3
   },
   "file_extension": ".py",
   "mimetype": "text/x-python",
   "name": "python",
   "nbconvert_exporter": "python",
   "pygments_lexer": "ipython3",
   "version": "3.8.2"
  }
 },
 "nbformat": 4,
 "nbformat_minor": 4
}
